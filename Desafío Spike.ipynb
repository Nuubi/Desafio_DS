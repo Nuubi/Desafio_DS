{
 "cells": [
  {
   "cell_type": "markdown",
   "metadata": {},
   "source": [
    "![alttext](logo.png)"
   ]
  },
  {
   "cell_type": "markdown",
   "metadata": {},
   "source": [
    "### Nombre postulante: EDUARDO ÁLVAREZ RIVAS\n",
    "### Fecha: Jueves 17 de octubre 2019\n",
    "  "
   ]
  },
  {
   "cell_type": "markdown",
   "metadata": {},
   "source": [
    "## 1- Importación de librerías:"
   ]
  },
  {
   "cell_type": "code",
   "execution_count": 1,
   "metadata": {},
   "outputs": [],
   "source": [
    "import pandas as pd\n",
    "import numpy as np\n",
    "import matplotlib.pyplot as plt\n",
    "import scipy.stats as stats\n",
    "import seaborn as sns\n",
    "import warnings\n",
    "warnings.filterwarnings(action='ignore')\n",
    "import statsmodels.api as sm\n",
    "import statsmodels.formula.api as smf\n",
    "\n",
    "plt.style.use(\"seaborn-whitegrid\")\n",
    "plt.rcParams[\"figure.figsize\"]=(10,6)\n",
    "\n",
    "from sklearn.linear_model import LinearRegression\n",
    "from sklearn.metrics import mean_squared_error, r2_score\n",
    "from sklearn.linear_model import LogisticRegression\n",
    "from sklearn.model_selection import train_test_split\n",
    "from sklearn.preprocessing import StandardScaler\n",
    "from sklearn.metrics import roc_auc_score\n",
    "from sklearn.metrics import roc_curve\n",
    "from sklearn.metrics import classification_report\n",
    "from sklearn.metrics import confusion_matrix\n",
    "from sklearn.metrics import accuracy_score\n",
    "from sklearn.metrics import precision_score\n",
    "from sklearn.metrics import recall_score\n",
    "from sklearn.metrics import f1_score\n",
    "from sklearn.svm import SVC\n"
   ]
  },
  {
   "cell_type": "markdown",
   "metadata": {},
   "source": [
    "## 2- Importación BBDD:"
   ]
  },
  {
   "cell_type": "code",
   "execution_count": 2,
   "metadata": {},
   "outputs": [],
   "source": [
    "df= pd.read_csv(\"caudal_extra.csv\").drop('Unnamed: 0', axis=1)"
   ]
  },
  {
   "cell_type": "code",
   "execution_count": 3,
   "metadata": {},
   "outputs": [
    {
     "data": {
      "text/html": [
       "<div>\n",
       "<style scoped>\n",
       "    .dataframe tbody tr th:only-of-type {\n",
       "        vertical-align: middle;\n",
       "    }\n",
       "\n",
       "    .dataframe tbody tr th {\n",
       "        vertical-align: top;\n",
       "    }\n",
       "\n",
       "    .dataframe thead th {\n",
       "        text-align: right;\n",
       "    }\n",
       "</style>\n",
       "<table border=\"1\" class=\"dataframe\">\n",
       "  <thead>\n",
       "    <tr style=\"text-align: right;\">\n",
       "      <th></th>\n",
       "      <th>codigo_estacion</th>\n",
       "      <th>institucion</th>\n",
       "      <th>fuente</th>\n",
       "      <th>nombre</th>\n",
       "      <th>altura</th>\n",
       "      <th>latitud</th>\n",
       "      <th>longitud</th>\n",
       "      <th>codigo_cuenca</th>\n",
       "      <th>nombre_sub_cuenca</th>\n",
       "      <th>cantidad_observaciones</th>\n",
       "      <th>fecha</th>\n",
       "      <th>caudal</th>\n",
       "      <th>gauge_id</th>\n",
       "      <th>gauge_name</th>\n",
       "      <th>precip_promedio</th>\n",
       "      <th>temp_max_promedio</th>\n",
       "    </tr>\n",
       "  </thead>\n",
       "  <tbody>\n",
       "    <tr>\n",
       "      <th>0</th>\n",
       "      <td>4540001</td>\n",
       "      <td>DGA</td>\n",
       "      <td>dga_web</td>\n",
       "      <td>Rio Grande En Paloma 1</td>\n",
       "      <td>310</td>\n",
       "      <td>-30.6833</td>\n",
       "      <td>-71.050003</td>\n",
       "      <td>45</td>\n",
       "      <td>Rio Grande Bajo (Entre E Paloma Y Rio Hurtado)</td>\n",
       "      <td>11575</td>\n",
       "      <td>1960-01-06 00:00:00+00:00</td>\n",
       "      <td>0.812</td>\n",
       "      <td>4540001</td>\n",
       "      <td>Rio Grande En Paloma 1</td>\n",
       "      <td>0.0</td>\n",
       "      <td>NaN</td>\n",
       "    </tr>\n",
       "    <tr>\n",
       "      <th>1</th>\n",
       "      <td>4540001</td>\n",
       "      <td>DGA</td>\n",
       "      <td>dga_web</td>\n",
       "      <td>Rio Grande En Paloma 1</td>\n",
       "      <td>310</td>\n",
       "      <td>-30.6833</td>\n",
       "      <td>-71.050003</td>\n",
       "      <td>45</td>\n",
       "      <td>Rio Grande Bajo (Entre E Paloma Y Rio Hurtado)</td>\n",
       "      <td>11575</td>\n",
       "      <td>1960-03-27 00:00:00+00:00</td>\n",
       "      <td>0.236</td>\n",
       "      <td>4540001</td>\n",
       "      <td>Rio Grande En Paloma 1</td>\n",
       "      <td>0.0</td>\n",
       "      <td>NaN</td>\n",
       "    </tr>\n",
       "    <tr>\n",
       "      <th>2</th>\n",
       "      <td>4540001</td>\n",
       "      <td>DGA</td>\n",
       "      <td>dga_web</td>\n",
       "      <td>Rio Grande En Paloma 1</td>\n",
       "      <td>310</td>\n",
       "      <td>-30.6833</td>\n",
       "      <td>-71.050003</td>\n",
       "      <td>45</td>\n",
       "      <td>Rio Grande Bajo (Entre E Paloma Y Rio Hurtado)</td>\n",
       "      <td>11575</td>\n",
       "      <td>1960-05-07 00:00:00+00:00</td>\n",
       "      <td>0.730</td>\n",
       "      <td>4540001</td>\n",
       "      <td>Rio Grande En Paloma 1</td>\n",
       "      <td>0.0</td>\n",
       "      <td>NaN</td>\n",
       "    </tr>\n",
       "    <tr>\n",
       "      <th>3</th>\n",
       "      <td>4540001</td>\n",
       "      <td>DGA</td>\n",
       "      <td>dga_web</td>\n",
       "      <td>Rio Grande En Paloma 1</td>\n",
       "      <td>310</td>\n",
       "      <td>-30.6833</td>\n",
       "      <td>-71.050003</td>\n",
       "      <td>45</td>\n",
       "      <td>Rio Grande Bajo (Entre E Paloma Y Rio Hurtado)</td>\n",
       "      <td>11575</td>\n",
       "      <td>1960-06-30 00:00:00+00:00</td>\n",
       "      <td>3.590</td>\n",
       "      <td>4540001</td>\n",
       "      <td>Rio Grande En Paloma 1</td>\n",
       "      <td>0.0</td>\n",
       "      <td>NaN</td>\n",
       "    </tr>\n",
       "    <tr>\n",
       "      <th>4</th>\n",
       "      <td>4540001</td>\n",
       "      <td>DGA</td>\n",
       "      <td>dga_web</td>\n",
       "      <td>Rio Grande En Paloma 1</td>\n",
       "      <td>310</td>\n",
       "      <td>-30.6833</td>\n",
       "      <td>-71.050003</td>\n",
       "      <td>45</td>\n",
       "      <td>Rio Grande Bajo (Entre E Paloma Y Rio Hurtado)</td>\n",
       "      <td>11575</td>\n",
       "      <td>1960-07-22 00:00:00+00:00</td>\n",
       "      <td>1.370</td>\n",
       "      <td>4540001</td>\n",
       "      <td>Rio Grande En Paloma 1</td>\n",
       "      <td>0.0</td>\n",
       "      <td>NaN</td>\n",
       "    </tr>\n",
       "  </tbody>\n",
       "</table>\n",
       "</div>"
      ],
      "text/plain": [
       "   codigo_estacion institucion   fuente                  nombre  altura  \\\n",
       "0          4540001         DGA  dga_web  Rio Grande En Paloma 1     310   \n",
       "1          4540001         DGA  dga_web  Rio Grande En Paloma 1     310   \n",
       "2          4540001         DGA  dga_web  Rio Grande En Paloma 1     310   \n",
       "3          4540001         DGA  dga_web  Rio Grande En Paloma 1     310   \n",
       "4          4540001         DGA  dga_web  Rio Grande En Paloma 1     310   \n",
       "\n",
       "   latitud   longitud  codigo_cuenca  \\\n",
       "0 -30.6833 -71.050003             45   \n",
       "1 -30.6833 -71.050003             45   \n",
       "2 -30.6833 -71.050003             45   \n",
       "3 -30.6833 -71.050003             45   \n",
       "4 -30.6833 -71.050003             45   \n",
       "\n",
       "                                nombre_sub_cuenca  cantidad_observaciones  \\\n",
       "0  Rio Grande Bajo (Entre E Paloma Y Rio Hurtado)                   11575   \n",
       "1  Rio Grande Bajo (Entre E Paloma Y Rio Hurtado)                   11575   \n",
       "2  Rio Grande Bajo (Entre E Paloma Y Rio Hurtado)                   11575   \n",
       "3  Rio Grande Bajo (Entre E Paloma Y Rio Hurtado)                   11575   \n",
       "4  Rio Grande Bajo (Entre E Paloma Y Rio Hurtado)                   11575   \n",
       "\n",
       "                       fecha  caudal  gauge_id              gauge_name  \\\n",
       "0  1960-01-06 00:00:00+00:00   0.812   4540001  Rio Grande En Paloma 1   \n",
       "1  1960-03-27 00:00:00+00:00   0.236   4540001  Rio Grande En Paloma 1   \n",
       "2  1960-05-07 00:00:00+00:00   0.730   4540001  Rio Grande En Paloma 1   \n",
       "3  1960-06-30 00:00:00+00:00   3.590   4540001  Rio Grande En Paloma 1   \n",
       "4  1960-07-22 00:00:00+00:00   1.370   4540001  Rio Grande En Paloma 1   \n",
       "\n",
       "   precip_promedio  temp_max_promedio  \n",
       "0              0.0                NaN  \n",
       "1              0.0                NaN  \n",
       "2              0.0                NaN  \n",
       "3              0.0                NaN  \n",
       "4              0.0                NaN  "
      ]
     },
     "execution_count": 3,
     "metadata": {},
     "output_type": "execute_result"
    }
   ],
   "source": [
    "df.head()"
   ]
  },
  {
   "cell_type": "code",
   "execution_count": 4,
   "metadata": {},
   "outputs": [
    {
     "data": {
      "text/plain": [
       "(1411180, 16)"
      ]
     },
     "execution_count": 4,
     "metadata": {},
     "output_type": "execute_result"
    }
   ],
   "source": [
    "df.shape\n",
    "#fila base de datos 1.411.180\n",
    "# 16 columnas"
   ]
  },
  {
   "cell_type": "code",
   "execution_count": 5,
   "metadata": {},
   "outputs": [
    {
     "data": {
      "text/plain": [
       "codigo_estacion             int64\n",
       "institucion                object\n",
       "fuente                     object\n",
       "nombre                     object\n",
       "altura                      int64\n",
       "latitud                   float64\n",
       "longitud                  float64\n",
       "codigo_cuenca               int64\n",
       "nombre_sub_cuenca          object\n",
       "cantidad_observaciones      int64\n",
       "fecha                      object\n",
       "caudal                    float64\n",
       "gauge_id                    int64\n",
       "gauge_name                 object\n",
       "precip_promedio           float64\n",
       "temp_max_promedio         float64\n",
       "dtype: object"
      ]
     },
     "execution_count": 5,
     "metadata": {},
     "output_type": "execute_result"
    }
   ],
   "source": [
    "df.dtypes"
   ]
  },
  {
   "cell_type": "code",
   "execution_count": 6,
   "metadata": {},
   "outputs": [],
   "source": [
    "# Transformación variable fecha a formato fecha. \n",
    "# desagregación variable fecha\n",
    "df['fecha'] = pd.to_datetime(df['fecha'], format = '%Y/%m/%d')\n",
    "df['año'], df['mes'], df[\"semana\"] = df['fecha'].dt.year, df['fecha'].dt.month,df['fecha'].dt.week"
   ]
  },
  {
   "cell_type": "code",
   "execution_count": 7,
   "metadata": {},
   "outputs": [
    {
     "name": "stdout",
     "output_type": "stream",
     "text": [
      "<class 'pandas.core.frame.DataFrame'>\n",
      "RangeIndex: 1411180 entries, 0 to 1411179\n",
      "Data columns (total 19 columns):\n",
      "codigo_estacion           1411180 non-null int64\n",
      "institucion               1411180 non-null object\n",
      "fuente                    1411180 non-null object\n",
      "nombre                    1411180 non-null object\n",
      "altura                    1411180 non-null int64\n",
      "latitud                   1411180 non-null float64\n",
      "longitud                  1411180 non-null float64\n",
      "codigo_cuenca             1411180 non-null int64\n",
      "nombre_sub_cuenca         1411180 non-null object\n",
      "cantidad_observaciones    1411180 non-null int64\n",
      "fecha                     1411180 non-null datetime64[ns, UTC]\n",
      "caudal                    1411180 non-null float64\n",
      "gauge_id                  1411180 non-null int64\n",
      "gauge_name                1411180 non-null object\n",
      "precip_promedio           1383413 non-null float64\n",
      "temp_max_promedio         1259617 non-null float64\n",
      "año                       1411180 non-null int64\n",
      "mes                       1411180 non-null int64\n",
      "semana                    1411180 non-null int64\n",
      "dtypes: datetime64[ns, UTC](1), float64(5), int64(8), object(5)\n",
      "memory usage: 204.6+ MB\n"
     ]
    }
   ],
   "source": [
    "df.info()\n",
    "# Hay variables de tipo integer, object y float."
   ]
  },
  {
   "cell_type": "markdown",
   "metadata": {},
   "source": [
    "## 2- Analiza el dataset caudal_extra.csv. ¿Qué puedes decir de los datos, distribuciones, missing,u otros? ¿Hay algo que te llame la atención? ¿Por qué hay tantos valores missing? Pensar en la manera en que se elaboró el dataset, descrito más arriba. (Entregable: texto/imágenes)"
   ]
  },
  {
   "cell_type": "markdown",
   "metadata": {},
   "source": [
    "### 2.1- Valores Nan:"
   ]
  },
  {
   "cell_type": "code",
   "execution_count": 8,
   "metadata": {},
   "outputs": [
    {
     "data": {
      "text/plain": [
       "codigo_estacion                0\n",
       "institucion                    0\n",
       "fuente                         0\n",
       "nombre                         0\n",
       "altura                         0\n",
       "latitud                        0\n",
       "longitud                       0\n",
       "codigo_cuenca                  0\n",
       "nombre_sub_cuenca              0\n",
       "cantidad_observaciones         0\n",
       "fecha                          0\n",
       "caudal                         0\n",
       "gauge_id                       0\n",
       "gauge_name                     0\n",
       "precip_promedio            27767\n",
       "temp_max_promedio         151563\n",
       "año                            0\n",
       "mes                            0\n",
       "semana                         0\n",
       "dtype: int64"
      ]
     },
     "execution_count": 8,
     "metadata": {},
     "output_type": "execute_result"
    }
   ],
   "source": [
    "# datos perdidos por variable.\n",
    "df.isnull().sum()"
   ]
  },
  {
   "cell_type": "code",
   "execution_count": 9,
   "metadata": {},
   "outputs": [
    {
     "data": {
      "text/plain": [
       "<matplotlib.axes._subplots.AxesSubplot at 0x19708018438>"
      ]
     },
     "execution_count": 9,
     "metadata": {},
     "output_type": "execute_result"
    },
    {
     "data": {
      "image/png": "[encoded data removed]",
      "text/plain": [
       "<Figure size 432x288 with 1 Axes>"
      ]
     },
     "metadata": {
      "needs_background": "light"
     },
     "output_type": "display_data"
    }
   ],
   "source": [
    "# valores perdidos por código estación\n",
    "sns.heatmap(df.isnull(), cbar=False)"
   ]
  },
  {
   "cell_type": "code",
   "execution_count": 10,
   "metadata": {},
   "outputs": [],
   "source": [
    "#Creación de función para análisis de datos perdidos\n",
    "def perdidos(df,var,print_list=False):\n",
    "    a=df[var].isnull().sum()\n",
    "    b=len(df[var])\n",
    "    print(\"I- Cantidad de casos perdidos:\",a)\n",
    "    print(\"II- % de casos perdidos:\",a/b)\n",
    "    if print_list==True:\n",
    "        a=df[pd.isnull(df[var])==True][\"codigo_cuenca\"].values\n",
    "        a= pd.DataFrame({var:a})\n",
    "        print(\"III- % casos perdidos por cuencas:\", \"\\n\",a[var].value_counts(\"%\"))\n",
    "        b=df[pd.isnull(df[var])==True][\"codigo_estacion\"].values\n",
    "        b= pd.DataFrame({var:b})\n",
    "        print(\"\\nIV- % casos perdidos por estación:\", \"\\n\",b[var].value_counts(\"%\"))\n",
    "        c=df[pd.isnull(df[var])==True][\"año\"].values\n",
    "        c= pd.DataFrame({var:c})\n",
    "        print(\"\\nV- % casos perdidos por año:\", \"\\n\",c[var].value_counts(\"%\"))\n",
    " "
   ]
  },
  {
   "cell_type": "code",
   "execution_count": 11,
   "metadata": {},
   "outputs": [],
   "source": [
    "var_missing=[\"precip_promedio\", \"temp_max_promedio\"]"
   ]
  },
  {
   "cell_type": "code",
   "execution_count": 12,
   "metadata": {
    "scrolled": false
   },
   "outputs": [
    {
     "name": "stdout",
     "output_type": "stream",
     "text": [
      "\n",
      " precip_promedio\n",
      "I- Cantidad de casos perdidos: 27767\n",
      "II- % de casos perdidos: 0.019676440992644453\n",
      "III- % casos perdidos por cuencas: \n",
      " 34     0.196132\n",
      "111    0.134224\n",
      "91     0.129326\n",
      "71     0.108726\n",
      "32     0.087370\n",
      "83     0.085317\n",
      "57     0.082724\n",
      "113    0.057550\n",
      "94     0.053913\n",
      "21     0.030252\n",
      "73     0.008031\n",
      "43     0.007779\n",
      "10     0.003601\n",
      "54     0.003241\n",
      "45     0.002485\n",
      "122    0.002269\n",
      "103    0.002197\n",
      "38     0.002197\n",
      "117    0.001297\n",
      "12     0.001080\n",
      "81     0.000252\n",
      "107    0.000036\n",
      "Name: precip_promedio, dtype: float64\n",
      "\n",
      "IV- % casos perdidos por estación: \n",
      " 9123001     0.129326\n",
      "7116001     0.108726\n",
      "3431001     0.082724\n",
      "11141001    0.075665\n",
      "3430001     0.074801\n",
      "11308001    0.057550\n",
      "11143001    0.057334\n",
      "9402001     0.053913\n",
      "2110002     0.053481\n",
      "3453001     0.038607\n",
      "8304001     0.036986\n",
      "2110001     0.033889\n",
      "5721016     0.032989\n",
      "2105007     0.030252\n",
      "8308000     0.028847\n",
      "5704002     0.027227\n",
      "5710001     0.021969\n",
      "8380006     0.014370\n",
      "7381001     0.004034\n",
      "4308001     0.003745\n",
      "1050004     0.003601\n",
      "7317003     0.003493\n",
      "7355002     0.003313\n",
      "8358001     0.003277\n",
      "3804002     0.002197\n",
      "12289002    0.002197\n",
      "10311001    0.002197\n",
      "5410002     0.002125\n",
      "8307002     0.001765\n",
      "4513001     0.001297\n",
      "11147001    0.001224\n",
      "5410005     0.001116\n",
      "7332001     0.001116\n",
      "1211001     0.001080\n",
      "11710000    0.000648\n",
      "11711000    0.000648\n",
      "4503001     0.000576\n",
      "4537001     0.000540\n",
      "5746001     0.000432\n",
      "8106001     0.000216\n",
      "7335002     0.000108\n",
      "5734001     0.000108\n",
      "4523002     0.000072\n",
      "8316002     0.000072\n",
      "10704002    0.000036\n",
      "12284007    0.000036\n",
      "12289001    0.000036\n",
      "8132001     0.000036\n",
      "Name: precip_promedio, dtype: float64\n",
      "\n",
      "V- % casos perdidos por año: \n",
      " 1964    0.079699\n",
      "1965    0.077466\n",
      "1960    0.075449\n",
      "1961    0.065329\n",
      "1963    0.059927\n",
      "1966    0.056362\n",
      "1962    0.055966\n",
      "2015    0.037563\n",
      "2014    0.036842\n",
      "2017    0.035042\n",
      "1986    0.027335\n",
      "1967    0.026542\n",
      "1968    0.025822\n",
      "1969    0.025138\n",
      "1985    0.022941\n",
      "1970    0.022041\n",
      "1971    0.020708\n",
      "2013    0.019051\n",
      "1988    0.017359\n",
      "1987    0.016710\n",
      "1972    0.016026\n",
      "1993    0.014982\n",
      "2011    0.014586\n",
      "2012    0.013361\n",
      "2016    0.011993\n",
      "1995    0.011921\n",
      "1973    0.009976\n",
      "1991    0.008607\n",
      "2009    0.008607\n",
      "1989    0.008247\n",
      "2010    0.007059\n",
      "2018    0.006879\n",
      "1996    0.006771\n",
      "2000    0.006230\n",
      "2003    0.006158\n",
      "1990    0.005546\n",
      "2006    0.005078\n",
      "1975    0.004466\n",
      "1997    0.004106\n",
      "1999    0.003601\n",
      "1992    0.003385\n",
      "2002    0.003205\n",
      "1998    0.002845\n",
      "1994    0.002845\n",
      "1978    0.002233\n",
      "2008    0.002053\n",
      "2007    0.001585\n",
      "1979    0.001116\n",
      "1977    0.001080\n",
      "1974    0.001080\n",
      "2004    0.000756\n",
      "2005    0.000144\n",
      "2001    0.000072\n",
      "1976    0.000072\n",
      "1984    0.000036\n",
      "Name: precip_promedio, dtype: float64\n",
      "\n",
      " temp_max_promedio\n",
      "I- Cantidad de casos perdidos: 151563\n",
      "II- % de casos perdidos: 0.10740160716563443\n",
      "III- % casos perdidos por cuencas: \n",
      " 73     0.117997\n",
      "45     0.115424\n",
      "91     0.106127\n",
      "43     0.085786\n",
      "38     0.073811\n",
      "34     0.070736\n",
      "81     0.067094\n",
      "54     0.043658\n",
      "83     0.042946\n",
      "111    0.041006\n",
      "57     0.035860\n",
      "10     0.027012\n",
      "47     0.025389\n",
      "122    0.020618\n",
      "71     0.017557\n",
      "117    0.017353\n",
      "32     0.016297\n",
      "113    0.015334\n",
      "94     0.014390\n",
      "21     0.013216\n",
      "12     0.011428\n",
      "60     0.011408\n",
      "107    0.005133\n",
      "103    0.002085\n",
      "52     0.001768\n",
      "110    0.000528\n",
      "104    0.000033\n",
      "128    0.000007\n",
      "Name: temp_max_promedio, dtype: float64\n",
      "\n",
      "IV- % casos perdidos por estación: \n",
      " 9116001     0.036170\n",
      "9129002     0.035160\n",
      "9123001     0.034712\n",
      "4308001     0.034474\n",
      "4503001     0.033115\n",
      "4320001     0.028866\n",
      "7335001     0.026755\n",
      "3806001     0.025771\n",
      "7355002     0.025646\n",
      "3430001     0.025376\n",
      "4513001     0.023733\n",
      "3820003     0.023007\n",
      "4323001     0.021193\n",
      "3431001     0.019840\n",
      "11141001    0.019589\n",
      "3453001     0.018863\n",
      "8358001     0.018342\n",
      "8304001     0.017973\n",
      "4523002     0.017775\n",
      "7116001     0.017557\n",
      "1021001     0.016554\n",
      "3804002     0.016521\n",
      "8106001     0.016336\n",
      "5410002     0.015861\n",
      "11143001    0.015842\n",
      "8135002     0.015789\n",
      "11308001    0.015254\n",
      "12289002    0.014733\n",
      "7335002     0.014469\n",
      "5734001     0.014113\n",
      "              ...   \n",
      "7381001     0.001254\n",
      "4730001     0.001016\n",
      "7379002     0.000746\n",
      "4726001     0.000739\n",
      "8319001     0.000574\n",
      "11040001    0.000528\n",
      "2105001     0.000435\n",
      "8394001     0.000389\n",
      "8316002     0.000290\n",
      "2104003     0.000264\n",
      "2103003     0.000218\n",
      "9140001     0.000086\n",
      "8308000     0.000079\n",
      "12289001    0.000073\n",
      "7359001     0.000066\n",
      "2105002     0.000059\n",
      "3826001     0.000033\n",
      "10414001    0.000033\n",
      "2105005     0.000033\n",
      "11317001    0.000026\n",
      "11310001    0.000026\n",
      "8334001     0.000026\n",
      "11337001    0.000020\n",
      "5737002     0.000013\n",
      "8312000     0.000007\n",
      "8312001     0.000007\n",
      "3434003     0.000007\n",
      "11335002    0.000007\n",
      "7383001     0.000007\n",
      "12876004    0.000007\n",
      "Name: temp_max_promedio, Length: 109, dtype: float64\n",
      "\n",
      "V- % casos perdidos por año: \n",
      " 1964    0.075375\n",
      "1963    0.074880\n",
      "1960    0.063815\n",
      "1961    0.062799\n",
      "1962    0.058062\n",
      "1965    0.039119\n",
      "1968    0.037285\n",
      "1966    0.035319\n",
      "1967    0.034784\n",
      "1970    0.032125\n",
      "1969    0.030964\n",
      "1971    0.028701\n",
      "1972    0.028661\n",
      "2017    0.025877\n",
      "1974    0.025098\n",
      "2016    0.022308\n",
      "1973    0.019576\n",
      "2015    0.019576\n",
      "1976    0.018527\n",
      "1975    0.018362\n",
      "1978    0.018184\n",
      "2011    0.017095\n",
      "2010    0.016013\n",
      "1977    0.015756\n",
      "2013    0.014430\n",
      "2014    0.013935\n",
      "1991    0.012153\n",
      "2009    0.011216\n",
      "1985    0.010088\n",
      "1990    0.009699\n",
      "1986    0.009653\n",
      "1988    0.008557\n",
      "1987    0.008294\n",
      "1992    0.007383\n",
      "2012    0.007218\n",
      "2008    0.006948\n",
      "1989    0.006915\n",
      "1980    0.005318\n",
      "1979    0.005212\n",
      "1993    0.004718\n",
      "2000    0.003596\n",
      "1997    0.003358\n",
      "1996    0.003306\n",
      "1995    0.003160\n",
      "2018    0.003081\n",
      "1981    0.002791\n",
      "1994    0.002692\n",
      "2006    0.002468\n",
      "2003    0.002223\n",
      "1998    0.002065\n",
      "1984    0.001894\n",
      "2002    0.001742\n",
      "1999    0.001676\n",
      "2007    0.001372\n",
      "2004    0.001273\n",
      "2005    0.001049\n",
      "1983    0.001009\n",
      "1982    0.000779\n",
      "2001    0.000468\n",
      "Name: temp_max_promedio, dtype: float64\n"
     ]
    }
   ],
   "source": [
    "# análisis variables con datos perdidos\n",
    "for i in var_missing:\n",
    "    print(\"\\n\",i)\n",
    "    perdidos(df,i,True)"
   ]
  },
  {
   "cell_type": "markdown",
   "metadata": {},
   "source": [
    "#### Para promedio precipitacion extrema: Aproximadamente 1 de cada 5 datos de la cuenca 34 tiene valores NaN. Las estaciones 9123001 y 7116001 tienen cerca de un 10% de valores NaN. No hay concentración de NaN por año.\n",
    "#### Para temperatura extrema: La cuenca 73 y 45 tienen cerca de un 10% de valores nulos. No hay concentracion por estación ni por año de valores perdidos para esta variable.\n",
    "#### Según como se elaboraron los datos, los datos perdidos puede deberse a que existen cuencas sin estaciones de temperatura o precipitación.\n",
    "#### Si bien se podrían aplicar varias metodologías para el manejo de valores perdidos. Dado mi tiempo disponible para hacer el desafío he decidido eliminar las filas con los valores Nan de las variables Temperatura promedio maxima y precipitaciones promedio maximo.\n"
   ]
  },
  {
   "cell_type": "code",
   "execution_count": 13,
   "metadata": {},
   "outputs": [
    {
     "data": {
      "text/plain": [
       "codigo_estacion           0\n",
       "institucion               0\n",
       "fuente                    0\n",
       "nombre                    0\n",
       "altura                    0\n",
       "latitud                   0\n",
       "longitud                  0\n",
       "codigo_cuenca             0\n",
       "nombre_sub_cuenca         0\n",
       "cantidad_observaciones    0\n",
       "fecha                     0\n",
       "caudal                    0\n",
       "gauge_id                  0\n",
       "gauge_name                0\n",
       "precip_promedio           0\n",
       "temp_max_promedio         0\n",
       "año                       0\n",
       "mes                       0\n",
       "semana                    0\n",
       "dtype: int64"
      ]
     },
     "execution_count": 13,
     "metadata": {},
     "output_type": "execute_result"
    }
   ],
   "source": [
    "df.dropna(inplace=True)\n",
    "df.isna().sum()"
   ]
  },
  {
   "cell_type": "markdown",
   "metadata": {},
   "source": [
    "### 2.2-Análisis distribuciones variables: "
   ]
  },
  {
   "cell_type": "code",
   "execution_count": 14,
   "metadata": {},
   "outputs": [
    {
     "data": {
      "text/html": [
       "<div>\n",
       "<style scoped>\n",
       "    .dataframe tbody tr th:only-of-type {\n",
       "        vertical-align: middle;\n",
       "    }\n",
       "\n",
       "    .dataframe tbody tr th {\n",
       "        vertical-align: top;\n",
       "    }\n",
       "\n",
       "    .dataframe thead th {\n",
       "        text-align: right;\n",
       "    }\n",
       "</style>\n",
       "<table border=\"1\" class=\"dataframe\">\n",
       "  <thead>\n",
       "    <tr style=\"text-align: right;\">\n",
       "      <th></th>\n",
       "      <th>codigo_estacion</th>\n",
       "      <th>altura</th>\n",
       "      <th>latitud</th>\n",
       "      <th>longitud</th>\n",
       "      <th>codigo_cuenca</th>\n",
       "      <th>cantidad_observaciones</th>\n",
       "      <th>caudal</th>\n",
       "      <th>gauge_id</th>\n",
       "      <th>precip_promedio</th>\n",
       "      <th>temp_max_promedio</th>\n",
       "      <th>año</th>\n",
       "      <th>mes</th>\n",
       "      <th>semana</th>\n",
       "    </tr>\n",
       "  </thead>\n",
       "  <tbody>\n",
       "    <tr>\n",
       "      <th>count</th>\n",
       "      <td>1.256478e+06</td>\n",
       "      <td>1.256478e+06</td>\n",
       "      <td>1.256478e+06</td>\n",
       "      <td>1.256478e+06</td>\n",
       "      <td>1.256478e+06</td>\n",
       "      <td>1.256478e+06</td>\n",
       "      <td>1.256478e+06</td>\n",
       "      <td>1.256478e+06</td>\n",
       "      <td>1.256478e+06</td>\n",
       "      <td>1.256478e+06</td>\n",
       "      <td>1.256478e+06</td>\n",
       "      <td>1.256478e+06</td>\n",
       "      <td>1.256478e+06</td>\n",
       "    </tr>\n",
       "    <tr>\n",
       "      <th>mean</th>\n",
       "      <td>6.270140e+06</td>\n",
       "      <td>5.902867e+02</td>\n",
       "      <td>-3.365224e+01</td>\n",
       "      <td>-7.121523e+01</td>\n",
       "      <td>6.244692e+01</td>\n",
       "      <td>1.542030e+04</td>\n",
       "      <td>1.006744e+02</td>\n",
       "      <td>6.270140e+06</td>\n",
       "      <td>1.924264e+00</td>\n",
       "      <td>1.921806e+01</td>\n",
       "      <td>1.996220e+03</td>\n",
       "      <td>6.527697e+00</td>\n",
       "      <td>2.660991e+01</td>\n",
       "    </tr>\n",
       "    <tr>\n",
       "      <th>std</th>\n",
       "      <td>2.906719e+06</td>\n",
       "      <td>8.810602e+02</td>\n",
       "      <td>6.998293e+00</td>\n",
       "      <td>1.193651e+00</td>\n",
       "      <td>2.852077e+01</td>\n",
       "      <td>7.357059e+03</td>\n",
       "      <td>2.631270e+02</td>\n",
       "      <td>2.906719e+06</td>\n",
       "      <td>7.363496e+00</td>\n",
       "      <td>7.305359e+00</td>\n",
       "      <td>1.398518e+01</td>\n",
       "      <td>3.453498e+00</td>\n",
       "      <td>1.508352e+01</td>\n",
       "    </tr>\n",
       "    <tr>\n",
       "      <th>min</th>\n",
       "      <td>1.020003e+06</td>\n",
       "      <td>0.000000e+00</td>\n",
       "      <td>-5.404110e+01</td>\n",
       "      <td>-7.328330e+01</td>\n",
       "      <td>1.000000e+01</td>\n",
       "      <td>8.020000e+02</td>\n",
       "      <td>0.000000e+00</td>\n",
       "      <td>1.020003e+06</td>\n",
       "      <td>0.000000e+00</td>\n",
       "      <td>-1.905000e+01</td>\n",
       "      <td>1.960000e+03</td>\n",
       "      <td>1.000000e+00</td>\n",
       "      <td>1.000000e+00</td>\n",
       "    </tr>\n",
       "    <tr>\n",
       "      <th>25%</th>\n",
       "      <td>4.320001e+06</td>\n",
       "      <td>4.200000e+01</td>\n",
       "      <td>-3.686670e+01</td>\n",
       "      <td>-7.206810e+01</td>\n",
       "      <td>4.300000e+01</td>\n",
       "      <td>1.014400e+04</td>\n",
       "      <td>1.200000e+00</td>\n",
       "      <td>4.320001e+06</td>\n",
       "      <td>0.000000e+00</td>\n",
       "      <td>1.370000e+01</td>\n",
       "      <td>1.986000e+03</td>\n",
       "      <td>4.000000e+00</td>\n",
       "      <td>1.400000e+01</td>\n",
       "    </tr>\n",
       "    <tr>\n",
       "      <th>50%</th>\n",
       "      <td>5.734001e+06</td>\n",
       "      <td>3.100000e+02</td>\n",
       "      <td>-3.359390e+01</td>\n",
       "      <td>-7.126580e+01</td>\n",
       "      <td>5.700000e+01</td>\n",
       "      <td>1.484900e+04</td>\n",
       "      <td>9.420000e+00</td>\n",
       "      <td>5.734001e+06</td>\n",
       "      <td>0.000000e+00</td>\n",
       "      <td>1.910000e+01</td>\n",
       "      <td>1.998000e+03</td>\n",
       "      <td>7.000000e+00</td>\n",
       "      <td>2.700000e+01</td>\n",
       "    </tr>\n",
       "    <tr>\n",
       "      <th>75%</th>\n",
       "      <td>8.307002e+06</td>\n",
       "      <td>7.500000e+02</td>\n",
       "      <td>-2.994580e+01</td>\n",
       "      <td>-7.053280e+01</td>\n",
       "      <td>8.300000e+01</td>\n",
       "      <td>2.026400e+04</td>\n",
       "      <td>7.390000e+01</td>\n",
       "      <td>8.307002e+06</td>\n",
       "      <td>0.000000e+00</td>\n",
       "      <td>2.520000e+01</td>\n",
       "      <td>2.008000e+03</td>\n",
       "      <td>1.000000e+01</td>\n",
       "      <td>4.000000e+01</td>\n",
       "    </tr>\n",
       "    <tr>\n",
       "      <th>max</th>\n",
       "      <td>1.287600e+07</td>\n",
       "      <td>4.370000e+03</td>\n",
       "      <td>-1.823250e+01</td>\n",
       "      <td>-6.814390e+01</td>\n",
       "      <td>1.280000e+02</td>\n",
       "      <td>3.666700e+04</td>\n",
       "      <td>1.580500e+04</td>\n",
       "      <td>1.287600e+07</td>\n",
       "      <td>2.586000e+02</td>\n",
       "      <td>4.150000e+01</td>\n",
       "      <td>2.018000e+03</td>\n",
       "      <td>1.200000e+01</td>\n",
       "      <td>5.300000e+01</td>\n",
       "    </tr>\n",
       "  </tbody>\n",
       "</table>\n",
       "</div>"
      ],
      "text/plain": [
       "       codigo_estacion        altura       latitud      longitud  \\\n",
       "count     1.256478e+06  1.256478e+06  1.256478e+06  1.256478e+06   \n",
       "mean      6.270140e+06  5.902867e+02 -3.365224e+01 -7.121523e+01   \n",
       "std       2.906719e+06  8.810602e+02  6.998293e+00  1.193651e+00   \n",
       "min       1.020003e+06  0.000000e+00 -5.404110e+01 -7.328330e+01   \n",
       "25%       4.320001e+06  4.200000e+01 -3.686670e+01 -7.206810e+01   \n",
       "50%       5.734001e+06  3.100000e+02 -3.359390e+01 -7.126580e+01   \n",
       "75%       8.307002e+06  7.500000e+02 -2.994580e+01 -7.053280e+01   \n",
       "max       1.287600e+07  4.370000e+03 -1.823250e+01 -6.814390e+01   \n",
       "\n",
       "       codigo_cuenca  cantidad_observaciones        caudal      gauge_id  \\\n",
       "count   1.256478e+06            1.256478e+06  1.256478e+06  1.256478e+06   \n",
       "mean    6.244692e+01            1.542030e+04  1.006744e+02  6.270140e+06   \n",
       "std     2.852077e+01            7.357059e+03  2.631270e+02  2.906719e+06   \n",
       "min     1.000000e+01            8.020000e+02  0.000000e+00  1.020003e+06   \n",
       "25%     4.300000e+01            1.014400e+04  1.200000e+00  4.320001e+06   \n",
       "50%     5.700000e+01            1.484900e+04  9.420000e+00  5.734001e+06   \n",
       "75%     8.300000e+01            2.026400e+04  7.390000e+01  8.307002e+06   \n",
       "max     1.280000e+02            3.666700e+04  1.580500e+04  1.287600e+07   \n",
       "\n",
       "       precip_promedio  temp_max_promedio           año           mes  \\\n",
       "count     1.256478e+06       1.256478e+06  1.256478e+06  1.256478e+06   \n",
       "mean      1.924264e+00       1.921806e+01  1.996220e+03  6.527697e+00   \n",
       "std       7.363496e+00       7.305359e+00  1.398518e+01  3.453498e+00   \n",
       "min       0.000000e+00      -1.905000e+01  1.960000e+03  1.000000e+00   \n",
       "25%       0.000000e+00       1.370000e+01  1.986000e+03  4.000000e+00   \n",
       "50%       0.000000e+00       1.910000e+01  1.998000e+03  7.000000e+00   \n",
       "75%       0.000000e+00       2.520000e+01  2.008000e+03  1.000000e+01   \n",
       "max       2.586000e+02       4.150000e+01  2.018000e+03  1.200000e+01   \n",
       "\n",
       "             semana  \n",
       "count  1.256478e+06  \n",
       "mean   2.660991e+01  \n",
       "std    1.508352e+01  \n",
       "min    1.000000e+00  \n",
       "25%    1.400000e+01  \n",
       "50%    2.700000e+01  \n",
       "75%    4.000000e+01  \n",
       "max    5.300000e+01  "
      ]
     },
     "execution_count": 14,
     "metadata": {},
     "output_type": "execute_result"
    }
   ],
   "source": [
    "df.describe()"
   ]
  },
  {
   "cell_type": "markdown",
   "metadata": {},
   "source": [
    "### 2.2.1.- Caudal:"
   ]
  },
  {
   "cell_type": "code",
   "execution_count": 15,
   "metadata": {},
   "outputs": [
    {
     "data": {
      "text/plain": [
       "<matplotlib.lines.Line2D at 0x19708c2d0b8>"
      ]
     },
     "execution_count": 15,
     "metadata": {},
     "output_type": "execute_result"
    },
    {
     "data": {
      "image/png": "[encoded data removed]",
      "text/plain": [
       "<Figure size 432x288 with 1 Axes>"
      ]
     },
     "metadata": {
      "needs_background": "light"
     },
     "output_type": "display_data"
    }
   ],
   "source": [
    "# La mayoría de los datos se encuentran cercanos a 0. El rango de los datos es amplio (Hasta 16000).\n",
    "sns.distplot(df['caudal'])\n",
    "plt.axvline(np.mean(df['caudal']), color='tomato')"
   ]
  },
  {
   "cell_type": "markdown",
   "metadata": {},
   "source": [
    "### 2.2.2.- Precipitaciones promedio máxima:"
   ]
  },
  {
   "cell_type": "code",
   "execution_count": 16,
   "metadata": {},
   "outputs": [
    {
     "data": {
      "text/plain": [
       "<matplotlib.lines.Line2D at 0x1970811fb38>"
      ]
     },
     "execution_count": 16,
     "metadata": {},
     "output_type": "execute_result"
    },
    {
     "data": {
      "image/png": "[encoded data removed]",
      "text/plain": [
       "<Figure size 432x288 with 1 Axes>"
      ]
     },
     "metadata": {
      "needs_background": "light"
     },
     "output_type": "display_data"
    }
   ],
   "source": [
    "# Tiene un comportamiento similar a caudal pero en otra escala de valores.\n",
    "sns.distplot(df['precip_promedio'])\n",
    "plt.axvline(np.mean(df['precip_promedio']), color='tomato')"
   ]
  },
  {
   "cell_type": "markdown",
   "metadata": {},
   "source": [
    "### 2.2.3.- Temperatura promedio máxima:"
   ]
  },
  {
   "cell_type": "code",
   "execution_count": 17,
   "metadata": {},
   "outputs": [
    {
     "data": {
      "text/plain": [
       "<matplotlib.lines.Line2D at 0x1970817fa58>"
      ]
     },
     "execution_count": 17,
     "metadata": {},
     "output_type": "execute_result"
    },
    {
     "data": {
      "image/png": "[encoded data removed]",
      "text/plain": [
       "<Figure size 432x288 with 1 Axes>"
      ]
     },
     "metadata": {
      "needs_background": "light"
     },
     "output_type": "display_data"
    }
   ],
   "source": [
    "# los valores de la ditribución de la temperatura son plausibles.\n",
    "sns.distplot(df['temp_max_promedio'].dropna())\n",
    "plt.axvline(np.mean(df['temp_max_promedio']), color='tomato')"
   ]
  },
  {
   "cell_type": "markdown",
   "metadata": {},
   "source": [
    "### 2.2.4.- Altura:"
   ]
  },
  {
   "cell_type": "code",
   "execution_count": 18,
   "metadata": {},
   "outputs": [
    {
     "data": {
      "text/plain": [
       "<matplotlib.lines.Line2D at 0x19708256c88>"
      ]
     },
     "execution_count": 18,
     "metadata": {},
     "output_type": "execute_result"
    },
    {
     "data": {
      "image/png": "[encoded data removed]",
      "text/plain": [
       "<Figure size 432x288 with 1 Axes>"
      ]
     },
     "metadata": {
      "needs_background": "light"
     },
     "output_type": "display_data"
    }
   ],
   "source": [
    "# se observa una distribución multimodal de la altura con varias concentraciones de datos.\n",
    "sns.distplot(df['altura'].dropna())\n",
    "plt.axvline(np.mean(df['altura']), color='tomato')"
   ]
  },
  {
   "cell_type": "markdown",
   "metadata": {},
   "source": [
    "### 2.2.4.- Número de mediciones por estación y cuenca:"
   ]
  },
  {
   "cell_type": "code",
   "execution_count": 19,
   "metadata": {},
   "outputs": [
    {
     "data": {
      "text/plain": [
       "<bound method Series.unique of codigo_cuenca  gauge_id\n",
       "10             1020003     11141\n",
       "               1050004     10409\n",
       "               1021001      9534\n",
       "12             1211001      7048\n",
       "21             2105002     13486\n",
       "               2105001     13185\n",
       "               2104002     12820\n",
       "               2104003      9091\n",
       "               2120001      7981\n",
       "               2105007      7866\n",
       "               2105005      2987\n",
       "               2103003      2563\n",
       "32             2110004     13869\n",
       "               2110002      8728\n",
       "               2112007      6868\n",
       "               2110001      6194\n",
       "               2112006      4586\n",
       "               2112005      3768\n",
       "               2110031      1895\n",
       "34             3430001     16365\n",
       "               3453001     15524\n",
       "               3431001     15327\n",
       "               3450001      5865\n",
       "               3430002      5789\n",
       "               3434003      5443\n",
       "38             3806001     15390\n",
       "               3804002     14987\n",
       "               3820003     14755\n",
       "               3820001     12001\n",
       "               3825001      8972\n",
       "                           ...  \n",
       "91             9129002     15026\n",
       "               9123001     14808\n",
       "               9116001     12875\n",
       "94             9437002      9429\n",
       "               9402001      9224\n",
       "103            10364001    10587\n",
       "               10311001     4484\n",
       "104            10414001     6549\n",
       "107            10704002     3887\n",
       "110            11040001     6164\n",
       "111            11143001     7769\n",
       "               11141001     7138\n",
       "               11147001     4009\n",
       "113            11310001    12188\n",
       "               11317001    11607\n",
       "               11335002     9046\n",
       "               11308001     8068\n",
       "               11342001     7640\n",
       "               11337001     6324\n",
       "               11315001     5524\n",
       "115            11542001     6047\n",
       "               11530000     5384\n",
       "               11536004     5361\n",
       "               11545000     4736\n",
       "117            11711000     3890\n",
       "               11710000     2998\n",
       "122            12284007     9242\n",
       "               12289002     9068\n",
       "               12289001     7963\n",
       "128            12876004     1474\n",
       "Name: gauge_id, Length: 133, dtype: int64>"
      ]
     },
     "execution_count": 19,
     "metadata": {},
     "output_type": "execute_result"
    }
   ],
   "source": [
    "# El número de estaciones y mediciones es diferente por cuenca. Hay cuencas con una estacion y otras con mas de 15.\n",
    "df.groupby('codigo_cuenca')['gauge_id'].value_counts().unique"
   ]
  },
  {
   "cell_type": "code",
   "execution_count": 20,
   "metadata": {},
   "outputs": [
    {
     "data": {
      "text/plain": [
       "[83]     15\n",
       "[73]     11\n",
       "[45]      8\n",
       "[21]      8\n",
       "[57]      8\n",
       "[38]      7\n",
       "[113]     7\n",
       "[32]      7\n",
       "[47]      7\n",
       "[81]      6\n",
       "[34]      6\n",
       "[43]      5\n",
       "[115]     4\n",
       "[54]      4\n",
       "[91]      4\n",
       "[10]      3\n",
       "[122]     3\n",
       "[60]      3\n",
       "[111]     3\n",
       "[71]      2\n",
       "[94]      2\n",
       "[103]     2\n",
       "[117]     2\n",
       "[12]      1\n",
       "[110]     1\n",
       "[104]     1\n",
       "[52]      1\n",
       "[107]     1\n",
       "[128]     1\n",
       "Name: codigo_cuenca, dtype: int64"
      ]
     },
     "execution_count": 20,
     "metadata": {},
     "output_type": "execute_result"
    }
   ],
   "source": [
    "df.groupby('gauge_id')['codigo_cuenca'].unique().value_counts() #número de estaciones por cuenca"
   ]
  },
  {
   "cell_type": "code",
   "execution_count": 21,
   "metadata": {},
   "outputs": [
    {
     "data": {
      "text/plain": [
       "29"
      ]
     },
     "execution_count": 21,
     "metadata": {},
     "output_type": "execute_result"
    }
   ],
   "source": [
    "len(df['codigo_cuenca'].unique()) #son 29 cuencas"
   ]
  },
  {
   "cell_type": "markdown",
   "metadata": {},
   "source": [
    "## 3- Plots de precipitación, temperatura y caudal\n",
    "## a. Escribir una función que tome como input una estación y haga plot de los datos para una columna. Debiese tener estos argumentos: def time_plot_una_estacion(codigo_estacion, columna, fecha_min,\n",
    "fecha_max):\n"
   ]
  },
  {
   "cell_type": "code",
   "execution_count": 22,
   "metadata": {},
   "outputs": [],
   "source": [
    "def time_plot_una_estacion(columna, fecha_min = '2014-01-01', fecha_max = '2014-12-31', codigo_estacion=9129002):\n",
    "    \n",
    "    date_range = df[(df['fecha'] > fecha_min) & (df['fecha'] <= fecha_max)]\n",
    "    \n",
    "    sns.lineplot(x=date_range[date_range['codigo_estacion'] == codigo_estacion]['fecha'], \n",
    "                 y=date_range[date_range['codigo_estacion'] == codigo_estacion][columna], label = columna)\n",
    "    plt.xticks(rotation=45, ha='right')\n",
    "    plt.title(f\" Estación: [{codigo_estacion}]\")"
   ]
  },
  {
   "cell_type": "code",
   "execution_count": 23,
   "metadata": {},
   "outputs": [
    {
     "data": {
      "image/png": "[encoded data removed]",
      "text/plain": [
       "<Figure size 432x288 with 1 Axes>"
      ]
     },
     "metadata": {
      "needs_background": "light"
     },
     "output_type": "display_data"
    }
   ],
   "source": [
    "time_plot_una_estacion('caudal', '2011', '2018' )"
   ]
  },
  {
   "cell_type": "markdown",
   "metadata": {},
   "source": [
    "### b- Ahora escribir una función que haga plots de varias columnas, para poder visualizar caudal, precipitación y temperatura al mismo tiempo. Como las series están en diferentes escalas, sugerimos normalizarlas antes de hacer el plot (por ejemplo, dividiendo por la primera observación de cada seria)\n",
    "### def time_plot_estaciones_varias_columnas(codigo_estacion, columnas, fecha_min, fecha_max):\n"
   ]
  },
  {
   "cell_type": "code",
   "execution_count": 24,
   "metadata": {},
   "outputs": [],
   "source": [
    "def time_plot_estaciones_varias_columnas(columnas, fecha_min = '2014-01-01', fecha_max = '2014-12-31', codigo_estacion = 9129002):\n",
    "          \n",
    "    data_range = df[(df['fecha'] > fecha_min) & (df['fecha'] <= fecha_max)]\n",
    "     \n",
    "    for index, value in enumerate(columnas):\n",
    "        \n",
    "        data_range[columnas[index]] = (data_range[columnas[index]]- data_range[columnas[index]].mean() )/ np.std(data_range[columnas[index]])\n",
    "        \n",
    "        sns.lineplot(x=data_range[data_range['codigo_estacion'] == codigo_estacion]['fecha'], \n",
    "                     y=data_range[data_range['codigo_estacion'] == codigo_estacion][columnas[index]], label = columnas[index])\n",
    "        \n",
    "        plt.xticks(rotation=45, ha='right')           \n",
    "        plt.style.use('seaborn')\n",
    "        plt.rcParams['figure.figsize']= (16, 10)\n",
    "        plt.title(f\" Estación: [{codigo_estacion}: Variable normalizadas]\")\n",
    "                   "
   ]
  },
  {
   "cell_type": "code",
   "execution_count": 25,
   "metadata": {},
   "outputs": [],
   "source": [
    "variables = ['caudal', 'precip_promedio', 'temp_max_promedio' ]"
   ]
  },
  {
   "cell_type": "code",
   "execution_count": 26,
   "metadata": {},
   "outputs": [
    {
     "data": {
      "image/png": "[encoded data removed]",
      "text/plain": [
       "<Figure size 432x288 with 1 Axes>"
      ]
     },
     "metadata": {
      "needs_background": "light"
     },
     "output_type": "display_data"
    }
   ],
   "source": [
    "time_plot_estaciones_varias_columnas(variables)"
   ]
  },
  {
   "cell_type": "markdown",
   "metadata": {},
   "source": [
    "### 4- Crea tres variables llamadas\n",
    "● caudal_extremo\n",
    "● temp_extremo\n",
    "● precip_extremo\n",
    "Dichas variables toman valor 1 un día si el caudal/temperatura/precipitación (según sea el caso)\n",
    "observado ese día es extremo. Esto significa que es mayor de lo \"esperado\". Para capturar esta idea,\n",
    "el valor de caudal, por ejemplo, toma valor 1 si está sobre el percentil 95 de ese caudal para esa\n",
    "estación del año (Verano, Primavera, Otoño, Invierno). Toma valor 0 cuando está bajo ese percentil.\n",
    "En otras palabras, para cada estación de medición y para cada estación del año, debes considerar la\n",
    "distribución histórica de caudal/temperatura/precipitación para elegir ese percentil 95.\n",
    "Esta medida toma en cuenta la estacionalidad, pues, por ejemplo, una temperatura de 25 grados en\n",
    "invierno puede ser extrema, pero en verano es normal. También toma en cuenta que cada cuenca (o\n",
    "estación) es diferente. Lo que es extremo para una cuenca no lo es para la otra.\n",
    "¿Les parece razonable esta medida para capturar algo “extremo”? ¿Usarían otra? ¿Cuál? (Solamente\n",
    "descríbanla, no la codifiquen! Vamos a usar la definición de Spike para esta desafío)"
   ]
  },
  {
   "cell_type": "code",
   "execution_count": 27,
   "metadata": {},
   "outputs": [],
   "source": [
    "#https://stackoverflow.com/questions/44526662/group-data-by-season-according-to-the-exact-dates\n",
    "bins = [0, 91, 183, 275, 366]#cortes de número de días por estación\n",
    "labels=['Verano', 'Otoño', 'Invierno', 'Primavera']\n",
    "doy = df['fecha'].dt.dayofyear #transforma el formato fecha a un integer con números del 1 al 366 (considera año biciesto)\n",
    "df['estacion_año'] = pd.cut(doy + 11 - 366*(doy > 355), bins=bins, labels=labels) "
   ]
  },
  {
   "cell_type": "code",
   "execution_count": 28,
   "metadata": {},
   "outputs": [
    {
     "data": {
      "text/plain": [
       "32         231\n",
       "33         248\n",
       "34         279\n",
       "35         288\n",
       "36         355\n",
       "37          35\n",
       "38          82\n",
       "39         101\n",
       "40         210\n",
       "41         232\n",
       "42          74\n",
       "43         119\n",
       "44         125\n",
       "45         177\n",
       "46          11\n",
       "47          55\n",
       "48          59\n",
       "49          91\n",
       "50         104\n",
       "51         141\n",
       "52         163\n",
       "53          89\n",
       "54          75\n",
       "55         110\n",
       "56         129\n",
       "57         140\n",
       "58         170\n",
       "59         189\n",
       "60         221\n",
       "61          39\n",
       "          ... \n",
       "1411150    272\n",
       "1411151    351\n",
       "1411152    113\n",
       "1411153    192\n",
       "1411154    223\n",
       "1411155    157\n",
       "1411156    280\n",
       "1411157    305\n",
       "1411158    308\n",
       "1411159    327\n",
       "1411160    332\n",
       "1411161      4\n",
       "1411162     31\n",
       "1411163     53\n",
       "1411164    157\n",
       "1411165    244\n",
       "1411166    250\n",
       "1411167    258\n",
       "1411168    282\n",
       "1411169    288\n",
       "1411170    298\n",
       "1411171     75\n",
       "1411172    158\n",
       "1411173    165\n",
       "1411174    267\n",
       "1411175    283\n",
       "1411176    287\n",
       "1411177      4\n",
       "1411178     29\n",
       "1411179     42\n",
       "Name: fecha, Length: 1256478, dtype: int64"
      ]
     },
     "execution_count": 28,
     "metadata": {},
     "output_type": "execute_result"
    }
   ],
   "source": [
    "doy"
   ]
  },
  {
   "cell_type": "code",
   "execution_count": 29,
   "metadata": {},
   "outputs": [],
   "source": [
    "df[\"feature_extrem\"]= df[\"nombre\"].astype(str)+ \"-\" +df[\"estacion_año\"].astype(str)"
   ]
  },
  {
   "cell_type": "code",
   "execution_count": 30,
   "metadata": {},
   "outputs": [],
   "source": [
    "df[\"feature_extrem\"]=df[\"feature_extrem\"].astype('category')\n",
    "df[\"estacion_año\"]=df[\"estacion_año\"].astype(\"category\")"
   ]
  },
  {
   "cell_type": "code",
   "execution_count": 31,
   "metadata": {},
   "outputs": [],
   "source": [
    "caudal_95=df.groupby('feature_extrem')['caudal'].quantile(0.95)\n",
    "df_extr_1=pd.DataFrame(({'caudal_95': caudal_95}) )\n",
    "\n",
    "temp_95=df.groupby('feature_extrem')['temp_max_promedio'].quantile(0.95)\n",
    "df_extr_2=pd.DataFrame(({'temp_95': temp_95}) )\n",
    "\n",
    "precip_95=df.groupby('feature_extrem')['precip_promedio'].quantile(0.95)\n",
    "df_extr_3=pd.DataFrame(({'precip_95': precip_95}) )"
   ]
  },
  {
   "cell_type": "code",
   "execution_count": 32,
   "metadata": {},
   "outputs": [],
   "source": [
    "df = pd.merge(df, df_extr_1, left_on=\"feature_extrem\", right_index=True)\n",
    "df = pd.merge(df, df_extr_2, left_on=\"feature_extrem\", right_index=True)\n",
    "df = pd.merge(df, df_extr_3, left_on=\"feature_extrem\", right_index=True)"
   ]
  },
  {
   "cell_type": "code",
   "execution_count": 33,
   "metadata": {},
   "outputs": [],
   "source": [
    "df[\"caudal_extremo\"]= np.where(df[\"caudal\"]>df[\"caudal_95\"],1,0)\n",
    "df[\"temp_extremo\"]= np.where(df[\"temp_max_promedio\"]>df[\"temp_95\"],1,0)\n",
    "df[\"precip_extremo\"]= np.where(df[\"precip_promedio\"]>df[\"precip_95\"],1,0)"
   ]
  },
  {
   "cell_type": "code",
   "execution_count": 34,
   "metadata": {},
   "outputs": [
    {
     "data": {
      "text/html": [
       "<div>\n",
       "<style scoped>\n",
       "    .dataframe tbody tr th:only-of-type {\n",
       "        vertical-align: middle;\n",
       "    }\n",
       "\n",
       "    .dataframe tbody tr th {\n",
       "        vertical-align: top;\n",
       "    }\n",
       "\n",
       "    .dataframe thead th {\n",
       "        text-align: right;\n",
       "    }\n",
       "</style>\n",
       "<table border=\"1\" class=\"dataframe\">\n",
       "  <thead>\n",
       "    <tr style=\"text-align: right;\">\n",
       "      <th></th>\n",
       "      <th>codigo_estacion</th>\n",
       "      <th>institucion</th>\n",
       "      <th>fuente</th>\n",
       "      <th>nombre</th>\n",
       "      <th>altura</th>\n",
       "      <th>latitud</th>\n",
       "      <th>longitud</th>\n",
       "      <th>codigo_cuenca</th>\n",
       "      <th>nombre_sub_cuenca</th>\n",
       "      <th>cantidad_observaciones</th>\n",
       "      <th>...</th>\n",
       "      <th>mes</th>\n",
       "      <th>semana</th>\n",
       "      <th>estacion_año</th>\n",
       "      <th>feature_extrem</th>\n",
       "      <th>caudal_95</th>\n",
       "      <th>temp_95</th>\n",
       "      <th>precip_95</th>\n",
       "      <th>caudal_extremo</th>\n",
       "      <th>temp_extremo</th>\n",
       "      <th>precip_extremo</th>\n",
       "    </tr>\n",
       "  </thead>\n",
       "  <tbody>\n",
       "    <tr>\n",
       "      <th>32</th>\n",
       "      <td>4540001</td>\n",
       "      <td>DGA</td>\n",
       "      <td>dga_web</td>\n",
       "      <td>Rio Grande En Paloma 1</td>\n",
       "      <td>310</td>\n",
       "      <td>-30.6833</td>\n",
       "      <td>-71.050003</td>\n",
       "      <td>45</td>\n",
       "      <td>Rio Grande Bajo (Entre E Paloma Y Rio Hurtado)</td>\n",
       "      <td>11575</td>\n",
       "      <td>...</td>\n",
       "      <td>8</td>\n",
       "      <td>33</td>\n",
       "      <td>Invierno</td>\n",
       "      <td>Rio Grande En Paloma 1-Invierno</td>\n",
       "      <td>26.16</td>\n",
       "      <td>26.678</td>\n",
       "      <td>7.471111</td>\n",
       "      <td>1</td>\n",
       "      <td>0</td>\n",
       "      <td>0</td>\n",
       "    </tr>\n",
       "    <tr>\n",
       "      <th>33</th>\n",
       "      <td>4540001</td>\n",
       "      <td>DGA</td>\n",
       "      <td>dga_web</td>\n",
       "      <td>Rio Grande En Paloma 1</td>\n",
       "      <td>310</td>\n",
       "      <td>-30.6833</td>\n",
       "      <td>-71.050003</td>\n",
       "      <td>45</td>\n",
       "      <td>Rio Grande Bajo (Entre E Paloma Y Rio Hurtado)</td>\n",
       "      <td>11575</td>\n",
       "      <td>...</td>\n",
       "      <td>9</td>\n",
       "      <td>35</td>\n",
       "      <td>Invierno</td>\n",
       "      <td>Rio Grande En Paloma 1-Invierno</td>\n",
       "      <td>26.16</td>\n",
       "      <td>26.678</td>\n",
       "      <td>7.471111</td>\n",
       "      <td>1</td>\n",
       "      <td>0</td>\n",
       "      <td>0</td>\n",
       "    </tr>\n",
       "    <tr>\n",
       "      <th>40</th>\n",
       "      <td>4540001</td>\n",
       "      <td>DGA</td>\n",
       "      <td>dga_web</td>\n",
       "      <td>Rio Grande En Paloma 1</td>\n",
       "      <td>310</td>\n",
       "      <td>-30.6833</td>\n",
       "      <td>-71.050003</td>\n",
       "      <td>45</td>\n",
       "      <td>Rio Grande Bajo (Entre E Paloma Y Rio Hurtado)</td>\n",
       "      <td>11575</td>\n",
       "      <td>...</td>\n",
       "      <td>7</td>\n",
       "      <td>30</td>\n",
       "      <td>Invierno</td>\n",
       "      <td>Rio Grande En Paloma 1-Invierno</td>\n",
       "      <td>26.16</td>\n",
       "      <td>26.678</td>\n",
       "      <td>7.471111</td>\n",
       "      <td>0</td>\n",
       "      <td>0</td>\n",
       "      <td>0</td>\n",
       "    </tr>\n",
       "    <tr>\n",
       "      <th>41</th>\n",
       "      <td>4540001</td>\n",
       "      <td>DGA</td>\n",
       "      <td>dga_web</td>\n",
       "      <td>Rio Grande En Paloma 1</td>\n",
       "      <td>310</td>\n",
       "      <td>-30.6833</td>\n",
       "      <td>-71.050003</td>\n",
       "      <td>45</td>\n",
       "      <td>Rio Grande Bajo (Entre E Paloma Y Rio Hurtado)</td>\n",
       "      <td>11575</td>\n",
       "      <td>...</td>\n",
       "      <td>8</td>\n",
       "      <td>33</td>\n",
       "      <td>Invierno</td>\n",
       "      <td>Rio Grande En Paloma 1-Invierno</td>\n",
       "      <td>26.16</td>\n",
       "      <td>26.678</td>\n",
       "      <td>7.471111</td>\n",
       "      <td>0</td>\n",
       "      <td>0</td>\n",
       "      <td>0</td>\n",
       "    </tr>\n",
       "    <tr>\n",
       "      <th>45</th>\n",
       "      <td>4540001</td>\n",
       "      <td>DGA</td>\n",
       "      <td>dga_web</td>\n",
       "      <td>Rio Grande En Paloma 1</td>\n",
       "      <td>310</td>\n",
       "      <td>-30.6833</td>\n",
       "      <td>-71.050003</td>\n",
       "      <td>45</td>\n",
       "      <td>Rio Grande Bajo (Entre E Paloma Y Rio Hurtado)</td>\n",
       "      <td>11575</td>\n",
       "      <td>...</td>\n",
       "      <td>6</td>\n",
       "      <td>26</td>\n",
       "      <td>Invierno</td>\n",
       "      <td>Rio Grande En Paloma 1-Invierno</td>\n",
       "      <td>26.16</td>\n",
       "      <td>26.678</td>\n",
       "      <td>7.471111</td>\n",
       "      <td>0</td>\n",
       "      <td>0</td>\n",
       "      <td>0</td>\n",
       "    </tr>\n",
       "  </tbody>\n",
       "</table>\n",
       "<p>5 rows × 27 columns</p>\n",
       "</div>"
      ],
      "text/plain": [
       "    codigo_estacion institucion   fuente                  nombre  altura  \\\n",
       "32          4540001         DGA  dga_web  Rio Grande En Paloma 1     310   \n",
       "33          4540001         DGA  dga_web  Rio Grande En Paloma 1     310   \n",
       "40          4540001         DGA  dga_web  Rio Grande En Paloma 1     310   \n",
       "41          4540001         DGA  dga_web  Rio Grande En Paloma 1     310   \n",
       "45          4540001         DGA  dga_web  Rio Grande En Paloma 1     310   \n",
       "\n",
       "    latitud   longitud  codigo_cuenca  \\\n",
       "32 -30.6833 -71.050003             45   \n",
       "33 -30.6833 -71.050003             45   \n",
       "40 -30.6833 -71.050003             45   \n",
       "41 -30.6833 -71.050003             45   \n",
       "45 -30.6833 -71.050003             45   \n",
       "\n",
       "                                 nombre_sub_cuenca  cantidad_observaciones  \\\n",
       "32  Rio Grande Bajo (Entre E Paloma Y Rio Hurtado)                   11575   \n",
       "33  Rio Grande Bajo (Entre E Paloma Y Rio Hurtado)                   11575   \n",
       "40  Rio Grande Bajo (Entre E Paloma Y Rio Hurtado)                   11575   \n",
       "41  Rio Grande Bajo (Entre E Paloma Y Rio Hurtado)                   11575   \n",
       "45  Rio Grande Bajo (Entre E Paloma Y Rio Hurtado)                   11575   \n",
       "\n",
       "    ... mes  semana  estacion_año                   feature_extrem  caudal_95  \\\n",
       "32  ...   8      33      Invierno  Rio Grande En Paloma 1-Invierno      26.16   \n",
       "33  ...   9      35      Invierno  Rio Grande En Paloma 1-Invierno      26.16   \n",
       "40  ...   7      30      Invierno  Rio Grande En Paloma 1-Invierno      26.16   \n",
       "41  ...   8      33      Invierno  Rio Grande En Paloma 1-Invierno      26.16   \n",
       "45  ...   6      26      Invierno  Rio Grande En Paloma 1-Invierno      26.16   \n",
       "\n",
       "    temp_95  precip_95  caudal_extremo  temp_extremo precip_extremo  \n",
       "32   26.678   7.471111               1             0              0  \n",
       "33   26.678   7.471111               1             0              0  \n",
       "40   26.678   7.471111               0             0              0  \n",
       "41   26.678   7.471111               0             0              0  \n",
       "45   26.678   7.471111               0             0              0  \n",
       "\n",
       "[5 rows x 27 columns]"
      ]
     },
     "execution_count": 34,
     "metadata": {},
     "output_type": "execute_result"
    }
   ],
   "source": [
    "df.head()"
   ]
  },
  {
   "cell_type": "code",
   "execution_count": 35,
   "metadata": {},
   "outputs": [
    {
     "data": {
      "text/plain": [
       "0    1193851\n",
       "1      62627\n",
       "Name: caudal_extremo, dtype: int64"
      ]
     },
     "execution_count": 35,
     "metadata": {},
     "output_type": "execute_result"
    }
   ],
   "source": [
    "df['caudal_extremo'].value_counts()"
   ]
  },
  {
   "cell_type": "code",
   "execution_count": 36,
   "metadata": {},
   "outputs": [
    {
     "data": {
      "text/plain": [
       "0    1195501\n",
       "1      60977\n",
       "Name: temp_extremo, dtype: int64"
      ]
     },
     "execution_count": 36,
     "metadata": {},
     "output_type": "execute_result"
    }
   ],
   "source": [
    "df['temp_extremo'].value_counts()"
   ]
  },
  {
   "cell_type": "code",
   "execution_count": 37,
   "metadata": {},
   "outputs": [
    {
     "data": {
      "text/plain": [
       "0    1201502\n",
       "1      54976\n",
       "Name: precip_extremo, dtype: int64"
      ]
     },
     "execution_count": 37,
     "metadata": {},
     "output_type": "execute_result"
    }
   ],
   "source": [
    "df['precip_extremo'].value_counts()"
   ]
  },
  {
   "cell_type": "markdown",
   "metadata": {},
   "source": [
    "# ¿Les parece razonable esta medida para capturar algo “extremo”? ¿Usarían otra? ¿Cuál? (Solamente descríbanla, no la codifiquen! Vamos a usar la definición de Spike para esta desafío)\n",
    "\n",
    "#### SI ME PARECE RAZONABLE. POR OTRO LADO, PENSARÍA EN INCORPORAR A LAS VARIABLES EXTREMAS EL TIEMPO EN HORAS O DÍAS, PARA DAR CUENTA DE LA DURACIÓN DE LAS TEMPERATURAS Y PRECIPITACIONES EXTREMAS. POR EJ: DAR CUENTA QUE HAN PASADO TRES DÍAS SEGUIDOS CON PRECIPITACIONES EXTREMAS.\n"
   ]
  },
  {
   "cell_type": "markdown",
   "metadata": {},
   "source": [
    "# 5. Analicen la variable caudal_extremo. Los comportamientos en diferentes cuencas son muy diferentes?"
   ]
  },
  {
   "cell_type": "code",
   "execution_count": 38,
   "metadata": {},
   "outputs": [
    {
     "data": {
      "text/html": [
       "<div>\n",
       "<style scoped>\n",
       "    .dataframe tbody tr th:only-of-type {\n",
       "        vertical-align: middle;\n",
       "    }\n",
       "\n",
       "    .dataframe tbody tr th {\n",
       "        vertical-align: top;\n",
       "    }\n",
       "\n",
       "    .dataframe thead th {\n",
       "        text-align: right;\n",
       "    }\n",
       "</style>\n",
       "<table border=\"1\" class=\"dataframe\">\n",
       "  <thead>\n",
       "    <tr style=\"text-align: right;\">\n",
       "      <th></th>\n",
       "      <th>Total caudal extremo por cuenca</th>\n",
       "    </tr>\n",
       "    <tr>\n",
       "      <th>codigo_cuenca</th>\n",
       "      <th></th>\n",
       "    </tr>\n",
       "  </thead>\n",
       "  <tbody>\n",
       "    <tr>\n",
       "      <th>128</th>\n",
       "      <td>75</td>\n",
       "    </tr>\n",
       "    <tr>\n",
       "      <th>107</th>\n",
       "      <td>193</td>\n",
       "    </tr>\n",
       "    <tr>\n",
       "      <th>110</th>\n",
       "      <td>308</td>\n",
       "    </tr>\n",
       "    <tr>\n",
       "      <th>104</th>\n",
       "      <td>325</td>\n",
       "    </tr>\n",
       "    <tr>\n",
       "      <th>117</th>\n",
       "      <td>347</td>\n",
       "    </tr>\n",
       "    <tr>\n",
       "      <th>12</th>\n",
       "      <td>351</td>\n",
       "    </tr>\n",
       "    <tr>\n",
       "      <th>52</th>\n",
       "      <td>542</td>\n",
       "    </tr>\n",
       "    <tr>\n",
       "      <th>60</th>\n",
       "      <td>557</td>\n",
       "    </tr>\n",
       "    <tr>\n",
       "      <th>103</th>\n",
       "      <td>751</td>\n",
       "    </tr>\n",
       "    <tr>\n",
       "      <th>94</th>\n",
       "      <td>930</td>\n",
       "    </tr>\n",
       "    <tr>\n",
       "      <th>111</th>\n",
       "      <td>946</td>\n",
       "    </tr>\n",
       "    <tr>\n",
       "      <th>115</th>\n",
       "      <td>1076</td>\n",
       "    </tr>\n",
       "    <tr>\n",
       "      <th>71</th>\n",
       "      <td>1295</td>\n",
       "    </tr>\n",
       "    <tr>\n",
       "      <th>122</th>\n",
       "      <td>1301</td>\n",
       "    </tr>\n",
       "    <tr>\n",
       "      <th>10</th>\n",
       "      <td>1549</td>\n",
       "    </tr>\n",
       "    <tr>\n",
       "      <th>32</th>\n",
       "      <td>2261</td>\n",
       "    </tr>\n",
       "    <tr>\n",
       "      <th>54</th>\n",
       "      <td>2410</td>\n",
       "    </tr>\n",
       "    <tr>\n",
       "      <th>91</th>\n",
       "      <td>3016</td>\n",
       "    </tr>\n",
       "    <tr>\n",
       "      <th>113</th>\n",
       "      <td>3017</td>\n",
       "    </tr>\n",
       "    <tr>\n",
       "      <th>34</th>\n",
       "      <td>3216</td>\n",
       "    </tr>\n",
       "    <tr>\n",
       "      <th>81</th>\n",
       "      <td>3263</td>\n",
       "    </tr>\n",
       "    <tr>\n",
       "      <th>43</th>\n",
       "      <td>3371</td>\n",
       "    </tr>\n",
       "    <tr>\n",
       "      <th>21</th>\n",
       "      <td>3463</td>\n",
       "    </tr>\n",
       "    <tr>\n",
       "      <th>38</th>\n",
       "      <td>3744</td>\n",
       "    </tr>\n",
       "    <tr>\n",
       "      <th>47</th>\n",
       "      <td>3957</td>\n",
       "    </tr>\n",
       "    <tr>\n",
       "      <th>83</th>\n",
       "      <td>4054</td>\n",
       "    </tr>\n",
       "    <tr>\n",
       "      <th>45</th>\n",
       "      <td>4874</td>\n",
       "    </tr>\n",
       "    <tr>\n",
       "      <th>57</th>\n",
       "      <td>4940</td>\n",
       "    </tr>\n",
       "    <tr>\n",
       "      <th>73</th>\n",
       "      <td>6495</td>\n",
       "    </tr>\n",
       "  </tbody>\n",
       "</table>\n",
       "</div>"
      ],
      "text/plain": [
       "               Total caudal extremo por cuenca\n",
       "codigo_cuenca                                 \n",
       "128                                         75\n",
       "107                                        193\n",
       "110                                        308\n",
       "104                                        325\n",
       "117                                        347\n",
       "12                                         351\n",
       "52                                         542\n",
       "60                                         557\n",
       "103                                        751\n",
       "94                                         930\n",
       "111                                        946\n",
       "115                                       1076\n",
       "71                                        1295\n",
       "122                                       1301\n",
       "10                                        1549\n",
       "32                                        2261\n",
       "54                                        2410\n",
       "91                                        3016\n",
       "113                                       3017\n",
       "34                                        3216\n",
       "81                                        3263\n",
       "43                                        3371\n",
       "21                                        3463\n",
       "38                                        3744\n",
       "47                                        3957\n",
       "83                                        4054\n",
       "45                                        4874\n",
       "57                                        4940\n",
       "73                                        6495"
      ]
     },
     "execution_count": 38,
     "metadata": {},
     "output_type": "execute_result"
    }
   ],
   "source": [
    "a=df.groupby('codigo_cuenca')['caudal_extremo'].sum().sort_values()\n",
    "df_caudal_extremo=pd.DataFrame(({'Total caudal extremo por cuenca': a}) )\n",
    "df_caudal_extremo"
   ]
  },
  {
   "cell_type": "code",
   "execution_count": 39,
   "metadata": {},
   "outputs": [
    {
     "data": {
      "text/plain": [
       "Total caudal extremo por cuenca    2159.6\n",
       "dtype: float64"
      ]
     },
     "execution_count": 39,
     "metadata": {},
     "output_type": "execute_result"
    }
   ],
   "source": [
    "df_caudal_extremo.mean().round(1)"
   ]
  },
  {
   "cell_type": "code",
   "execution_count": 40,
   "metadata": {},
   "outputs": [
    {
     "data": {
      "text/plain": [
       "Total caudal extremo por cuenca    1742.5\n",
       "dtype: float64"
      ]
     },
     "execution_count": 40,
     "metadata": {},
     "output_type": "execute_result"
    }
   ],
   "source": [
    "df_caudal_extremo.std().round(1)"
   ]
  },
  {
   "cell_type": "markdown",
   "metadata": {},
   "source": [
    "#### El número de eventos de caudal extremo tiene un promedio de 2159.6 considerando todos los años.\n",
    "#### La desviación estándar es de 1742.5."
   ]
  },
  {
   "cell_type": "markdown",
   "metadata": {},
   "source": [
    "## 6- Hagan un plot del porcentaje de eventos extremos a través del tiempo (caudal_extremo, temp_extremo, precip_extremo). Se han vuelto más o menos comunes?\n"
   ]
  },
  {
   "cell_type": "code",
   "execution_count": 41,
   "metadata": {},
   "outputs": [
    {
     "data": {
      "image/png": "[encoded data removed]",
      "text/plain": [
       "<Figure size 1152x720 with 1 Axes>"
      ]
     },
     "metadata": {},
     "output_type": "display_data"
    }
   ],
   "source": [
    "b_1=df.groupby('año')['caudal_extremo'].sum()/62627 #TOTAL DE CAUDALES EXTREMOS EN TODOS LOS AÑOS\n",
    "b_2=df.groupby('año')['temp_extremo'].sum()/60977 #TOTAL DE TEMP_EXTREMA EN TODOS LOS MESES\n",
    "b_3=df.groupby('año')['precip_extremo'].sum()/54976 #TOTAL PRECIP_EXTREMAS EN TODOS LOS AÑOS\n",
    "plt.plot(b_1, label=\"caudal_extremo\")\n",
    "plt.plot(b_2, label=\"temp_estremo\")\n",
    "plt.plot(b_3, label=\"precip_extremo\")\n",
    "leg_1= plt.legend()\n"
   ]
  },
  {
   "cell_type": "code",
   "execution_count": 42,
   "metadata": {},
   "outputs": [
    {
     "data": {
      "image/png": "[encoded data removed]",
      "text/plain": [
       "<Figure size 1008x360 with 3 Axes>"
      ]
     },
     "metadata": {},
     "output_type": "display_data"
    }
   ],
   "source": [
    "f, (ax1, ax2,ax3) = plt.subplots(3, 1, figsize=(14,5))\n",
    "b_1=df.groupby('año')['caudal_extremo'].sum()/62627 #TOTAL DE CAUDALES EXTREMOS EN TODOS LOS AÑOS\n",
    "b_2=df.groupby('año')['temp_extremo'].sum()/60977 #TOTAL DE TEMP_EXTREMA EN TODOS LOS MESES\n",
    "b_3=df.groupby('año')['precip_extremo'].sum()/54976 #TOTAL PRECIP_EXTREMAS EN TODOS LOS AÑOS\n",
    "ax1.plot(b_1, label=\"caudal_extremo\")\n",
    "ax2.plot(b_2, label=\"temp_estremo\")\n",
    "ax3.plot(b_3, label=\"precip_extremo\")\n",
    "leg_1= ax1.legend()\n",
    "leg_2= ax2.legend()\n",
    "leg_3= ax3.legend()\n",
    "\n",
    "#DESCRIPTIVAMENTE LAS TRES VARIABLES HAN AUMENTADO CONSIDERANDO TODOS LOS AÑOS\n"
   ]
  },
  {
   "cell_type": "code",
   "execution_count": 43,
   "metadata": {},
   "outputs": [
    {
     "data": {
      "image/png": "[encoded data removed]",
      "text/plain": [
       "<Figure size 1152x720 with 1 Axes>"
      ]
     },
     "metadata": {},
     "output_type": "display_data"
    }
   ],
   "source": [
    "c_1=df.groupby('mes')['caudal_extremo'].sum()/62627\n",
    "c_2=df.groupby('mes')['temp_extremo'].sum()/60977\n",
    "c_3=df.groupby('mes')['precip_extremo'].sum()/54976\n",
    "plt.plot(c_1, label=\"caudal_extremo\")\n",
    "plt.plot(c_2, label=\"temp_estremo\")\n",
    "plt.plot(c_3, label=\"precip_extremo\")\n",
    "leg_1= plt.legend()\n",
    "#MUY INTERESANTE: EN VERANO AL PARECER LOS EVENTOS DE CAUDAL EXTREMO SE CORRELACIONAN CON TEMP.EXTREMA Y EN INVIERNO CON PRECIPITACIONES EXTREMAS."
   ]
  },
  {
   "cell_type": "markdown",
   "metadata": {},
   "source": [
    "# 7 Predicción de caudal extremo. Entrena uno o varios modelos (usando el/los algoritmo(s) que prefieras) para estimar la probabilidad de un caudal extremo (la variable binariacaudal_extremo). Siéntete libre de generar variables adicionales y/o complementar con variables externas.\n",
    "¿Qué datos podemos usar y cuáles no? Por supuesto, no podemos usar datos del futuro, pero\n",
    "¿es lícito usar información del mismo día? ¿del día anterior? Todo depende de cómo\n",
    "propongas que el modelo se puede usar. Haz una propuesta de cómo usar tu modelo en la\n",
    "práctica (por ejemplo: una vez entrenado, voy a tomar los datos de XXX hasta el lunes y\n",
    "predecir para el día siguiente). Dada la propuesta, declara restricciones de información para\n",
    "caudal, temperatura y precipitación"
   ]
  },
  {
   "cell_type": "code",
   "execution_count": 48,
   "metadata": {},
   "outputs": [],
   "source": [
    "#TRANSFORMACIÓN DE ESTACIONES DEL AÑO A DUMMY\n",
    "bins = [0, 91, 183, 275, 366]#cortes de número de días por estación\n",
    "labels=[0, 1, 2, 3]\n",
    "doy = df['fecha'].dt.dayofyear #transforma el formato fecha a un integer con números del 1 al 366 (considera año biciesto)\n",
    "df['cod_estacion'] = pd.cut(doy + 11 - 366*(doy > 355), bins=bins, labels=labels) "
   ]
  },
  {
   "cell_type": "code",
   "execution_count": 50,
   "metadata": {},
   "outputs": [
    {
     "name": "stdout",
     "output_type": "stream",
     "text": [
      "<class 'pandas.core.frame.DataFrame'>\n",
      "Int64Index: 1256478 entries, 32 to 1411173\n",
      "Data columns (total 28 columns):\n",
      "codigo_estacion           1256478 non-null int64\n",
      "institucion               1256478 non-null object\n",
      "fuente                    1256478 non-null object\n",
      "nombre                    1256478 non-null object\n",
      "altura                    1256478 non-null int64\n",
      "latitud                   1256478 non-null float64\n",
      "longitud                  1256478 non-null float64\n",
      "codigo_cuenca             1256478 non-null int64\n",
      "nombre_sub_cuenca         1256478 non-null object\n",
      "cantidad_observaciones    1256478 non-null int64\n",
      "fecha                     1256478 non-null datetime64[ns, UTC]\n",
      "caudal                    1256478 non-null float64\n",
      "gauge_id                  1256478 non-null int64\n",
      "gauge_name                1256478 non-null object\n",
      "precip_promedio           1256478 non-null float64\n",
      "temp_max_promedio         1256478 non-null float64\n",
      "año                       1256478 non-null int64\n",
      "mes                       1256478 non-null category\n",
      "semana                    1256478 non-null int64\n",
      "estacion_año              1256478 non-null category\n",
      "feature_extrem            1256478 non-null category\n",
      "caudal_95                 1256478 non-null float64\n",
      "temp_95                   1256478 non-null float64\n",
      "precip_95                 1256478 non-null float64\n",
      "caudal_extremo            1256478 non-null int32\n",
      "temp_extremo              1256478 non-null category\n",
      "precip_extremo            1256478 non-null category\n",
      "cod_estacion              1256478 non-null category\n",
      "dtypes: category(6), datetime64[ns, UTC](1), float64(8), int32(1), int64(7), object(5)\n",
      "memory usage: 224.1+ MB\n"
     ]
    }
   ],
   "source": [
    "df.info()"
   ]
  },
  {
   "cell_type": "code",
   "execution_count": 49,
   "metadata": {},
   "outputs": [],
   "source": [
    "df[\"mes\"]=df[\"mes\"].astype('category')\n",
    "df[\"cod_estacion\"]=df[\"cod_estacion\"].astype('category')\n",
    "df[\"temp_extremo\"]=df[\"temp_extremo\"].astype('category')\n",
    "df[\"precip_extremo\"]=df[\"precip_extremo\"].astype('category')\n"
   ]
  },
  {
   "cell_type": "code",
   "execution_count": 51,
   "metadata": {},
   "outputs": [
    {
     "name": "stdout",
     "output_type": "stream",
     "text": [
      "Optimization terminated successfully.\n",
      "         Current function value: 0.192913\n",
      "         Iterations 8\n"
     ]
    },
    {
     "data": {
      "text/html": [
       "<table class=\"simpletable\">\n",
       "<caption>Logit Regression Results</caption>\n",
       "<tr>\n",
       "  <th>Dep. Variable:</th>    <td>caudal_extremo</td>  <th>  No. Observations:  </th>   <td>1256478</td>  \n",
       "</tr>\n",
       "<tr>\n",
       "  <th>Model:</th>                 <td>Logit</td>      <th>  Df Residuals:      </th>   <td>1256458</td>  \n",
       "</tr>\n",
       "<tr>\n",
       "  <th>Method:</th>                 <td>MLE</td>       <th>  Df Model:          </th>   <td>    19</td>   \n",
       "</tr>\n",
       "<tr>\n",
       "  <th>Date:</th>            <td>Thu, 17 Oct 2019</td> <th>  Pseudo R-squ.:     </th>   <td>0.02596</td>  \n",
       "</tr>\n",
       "<tr>\n",
       "  <th>Time:</th>                <td>21:23:38</td>     <th>  Log-Likelihood:    </th> <td>-2.4239e+05</td>\n",
       "</tr>\n",
       "<tr>\n",
       "  <th>converged:</th>             <td>True</td>       <th>  LL-Null:           </th> <td>-2.4885e+05</td>\n",
       "</tr>\n",
       "<tr>\n",
       "  <th>Covariance Type:</th>     <td>nonrobust</td>    <th>  LLR p-value:       </th>   <td> 0.000</td>   \n",
       "</tr>\n",
       "</table>\n",
       "<table class=\"simpletable\">\n",
       "<tr>\n",
       "           <td></td>              <th>coef</th>     <th>std err</th>      <th>z</th>      <th>P>|z|</th>  <th>[0.025</th>    <th>0.975]</th>  \n",
       "</tr>\n",
       "<tr>\n",
       "  <th>Intercept</th>           <td>   -2.8076</td> <td>    0.019</td> <td> -148.924</td> <td> 0.000</td> <td>   -2.845</td> <td>   -2.771</td>\n",
       "</tr>\n",
       "<tr>\n",
       "  <th>cod_estacion[T.1]</th>   <td>    0.0445</td> <td>    0.030</td> <td>    1.485</td> <td> 0.138</td> <td>   -0.014</td> <td>    0.103</td>\n",
       "</tr>\n",
       "<tr>\n",
       "  <th>cod_estacion[T.2]</th>   <td>   -0.5743</td> <td>    0.031</td> <td>  -18.689</td> <td> 0.000</td> <td>   -0.635</td> <td>   -0.514</td>\n",
       "</tr>\n",
       "<tr>\n",
       "  <th>cod_estacion[T.3]</th>   <td>   -0.5985</td> <td>    0.021</td> <td>  -28.142</td> <td> 0.000</td> <td>   -0.640</td> <td>   -0.557</td>\n",
       "</tr>\n",
       "<tr>\n",
       "  <th>temp_extremo[T.1]</th>   <td>   -0.4280</td> <td>    0.024</td> <td>  -17.489</td> <td> 0.000</td> <td>   -0.476</td> <td>   -0.380</td>\n",
       "</tr>\n",
       "<tr>\n",
       "  <th>precip_extremo[T.1]</th> <td>    1.0227</td> <td>    0.014</td> <td>   74.051</td> <td> 0.000</td> <td>    0.996</td> <td>    1.050</td>\n",
       "</tr>\n",
       "<tr>\n",
       "  <th>mes[T.2]</th>            <td>   -0.6353</td> <td>    0.023</td> <td>  -28.162</td> <td> 0.000</td> <td>   -0.680</td> <td>   -0.591</td>\n",
       "</tr>\n",
       "<tr>\n",
       "  <th>mes[T.3]</th>            <td>   -0.6355</td> <td>    0.024</td> <td>  -26.525</td> <td> 0.000</td> <td>   -0.682</td> <td>   -0.589</td>\n",
       "</tr>\n",
       "<tr>\n",
       "  <th>mes[T.4]</th>            <td>   -0.7373</td> <td>    0.038</td> <td>  -19.598</td> <td> 0.000</td> <td>   -0.811</td> <td>   -0.664</td>\n",
       "</tr>\n",
       "<tr>\n",
       "  <th>mes[T.5]</th>            <td>   -0.3027</td> <td>    0.036</td> <td>   -8.439</td> <td> 0.000</td> <td>   -0.373</td> <td>   -0.232</td>\n",
       "</tr>\n",
       "<tr>\n",
       "  <th>mes[T.6]</th>            <td>    0.3830</td> <td>    0.033</td> <td>   11.467</td> <td> 0.000</td> <td>    0.318</td> <td>    0.448</td>\n",
       "</tr>\n",
       "<tr>\n",
       "  <th>mes[T.7]</th>            <td>    0.5736</td> <td>    0.036</td> <td>   15.963</td> <td> 0.000</td> <td>    0.503</td> <td>    0.644</td>\n",
       "</tr>\n",
       "<tr>\n",
       "  <th>mes[T.8]</th>            <td>    0.2823</td> <td>    0.037</td> <td>    7.709</td> <td> 0.000</td> <td>    0.211</td> <td>    0.354</td>\n",
       "</tr>\n",
       "<tr>\n",
       "  <th>mes[T.9]</th>            <td>    0.2660</td> <td>    0.032</td> <td>    8.313</td> <td> 0.000</td> <td>    0.203</td> <td>    0.329</td>\n",
       "</tr>\n",
       "<tr>\n",
       "  <th>mes[T.10]</th>           <td>    0.3306</td> <td>    0.029</td> <td>   11.415</td> <td> 0.000</td> <td>    0.274</td> <td>    0.387</td>\n",
       "</tr>\n",
       "<tr>\n",
       "  <th>mes[T.11]</th>           <td>    0.3547</td> <td>    0.029</td> <td>   12.184</td> <td> 0.000</td> <td>    0.298</td> <td>    0.412</td>\n",
       "</tr>\n",
       "<tr>\n",
       "  <th>mes[T.12]</th>           <td>    0.7331</td> <td>    0.021</td> <td>   35.055</td> <td> 0.000</td> <td>    0.692</td> <td>    0.774</td>\n",
       "</tr>\n",
       "<tr>\n",
       "  <th>altura</th>              <td>-4.362e-06</td> <td> 5.88e-06</td> <td>   -0.742</td> <td> 0.458</td> <td>-1.59e-05</td> <td> 7.16e-06</td>\n",
       "</tr>\n",
       "<tr>\n",
       "  <th>codigo_estacion</th>     <td> 3.492e-09</td> <td> 1.04e-08</td> <td>    0.336</td> <td> 0.737</td> <td>-1.69e-08</td> <td> 2.39e-08</td>\n",
       "</tr>\n",
       "<tr>\n",
       "  <th>codigo_cuenca</th>       <td>   -0.0007</td> <td>    0.001</td> <td>   -0.656</td> <td> 0.512</td> <td>   -0.003</td> <td>    0.001</td>\n",
       "</tr>\n",
       "</table>"
      ],
      "text/plain": [
       "<class 'statsmodels.iolib.summary.Summary'>\n",
       "\"\"\"\n",
       "                           Logit Regression Results                           \n",
       "==============================================================================\n",
       "Dep. Variable:         caudal_extremo   No. Observations:              1256478\n",
       "Model:                          Logit   Df Residuals:                  1256458\n",
       "Method:                           MLE   Df Model:                           19\n",
       "Date:                Thu, 17 Oct 2019   Pseudo R-squ.:                 0.02596\n",
       "Time:                        21:23:38   Log-Likelihood:            -2.4239e+05\n",
       "converged:                       True   LL-Null:                   -2.4885e+05\n",
       "Covariance Type:            nonrobust   LLR p-value:                     0.000\n",
       "=======================================================================================\n",
       "                          coef    std err          z      P>|z|      [0.025      0.975]\n",
       "---------------------------------------------------------------------------------------\n",
       "Intercept              -2.8076      0.019   -148.924      0.000      -2.845      -2.771\n",
       "cod_estacion[T.1]       0.0445      0.030      1.485      0.138      -0.014       0.103\n",
       "cod_estacion[T.2]      -0.5743      0.031    -18.689      0.000      -0.635      -0.514\n",
       "cod_estacion[T.3]      -0.5985      0.021    -28.142      0.000      -0.640      -0.557\n",
       "temp_extremo[T.1]      -0.4280      0.024    -17.489      0.000      -0.476      -0.380\n",
       "precip_extremo[T.1]     1.0227      0.014     74.051      0.000       0.996       1.050\n",
       "mes[T.2]               -0.6353      0.023    -28.162      0.000      -0.680      -0.591\n",
       "mes[T.3]               -0.6355      0.024    -26.525      0.000      -0.682      -0.589\n",
       "mes[T.4]               -0.7373      0.038    -19.598      0.000      -0.811      -0.664\n",
       "mes[T.5]               -0.3027      0.036     -8.439      0.000      -0.373      -0.232\n",
       "mes[T.6]                0.3830      0.033     11.467      0.000       0.318       0.448\n",
       "mes[T.7]                0.5736      0.036     15.963      0.000       0.503       0.644\n",
       "mes[T.8]                0.2823      0.037      7.709      0.000       0.211       0.354\n",
       "mes[T.9]                0.2660      0.032      8.313      0.000       0.203       0.329\n",
       "mes[T.10]               0.3306      0.029     11.415      0.000       0.274       0.387\n",
       "mes[T.11]               0.3547      0.029     12.184      0.000       0.298       0.412\n",
       "mes[T.12]               0.7331      0.021     35.055      0.000       0.692       0.774\n",
       "altura              -4.362e-06   5.88e-06     -0.742      0.458   -1.59e-05    7.16e-06\n",
       "codigo_estacion      3.492e-09   1.04e-08      0.336      0.737   -1.69e-08    2.39e-08\n",
       "codigo_cuenca          -0.0007      0.001     -0.656      0.512      -0.003       0.001\n",
       "=======================================================================================\n",
       "\"\"\""
      ]
     },
     "execution_count": 51,
     "metadata": {},
     "output_type": "execute_result"
    }
   ],
   "source": [
    "#MODELO SATURADO\n",
    "m1_logit= smf.logit(\"caudal_extremo ~ altura + codigo_estacion + codigo_cuenca + cod_estacion + temp_extremo + precip_extremo+ mes\",df).fit()\n",
    "m1_logit.summary()"
   ]
  },
  {
   "cell_type": "code",
   "execution_count": 52,
   "metadata": {},
   "outputs": [
    {
     "name": "stdout",
     "output_type": "stream",
     "text": [
      "Optimization terminated successfully.\n",
      "         Current function value: 0.192914\n",
      "         Iterations 8\n"
     ]
    },
    {
     "data": {
      "text/html": [
       "<table class=\"simpletable\">\n",
       "<caption>Logit Regression Results</caption>\n",
       "<tr>\n",
       "  <th>Dep. Variable:</th>    <td>caudal_extremo</td>  <th>  No. Observations:  </th>   <td>1256478</td>  \n",
       "</tr>\n",
       "<tr>\n",
       "  <th>Model:</th>                 <td>Logit</td>      <th>  Df Residuals:      </th>   <td>1256461</td>  \n",
       "</tr>\n",
       "<tr>\n",
       "  <th>Method:</th>                 <td>MLE</td>       <th>  Df Model:          </th>   <td>    16</td>   \n",
       "</tr>\n",
       "<tr>\n",
       "  <th>Date:</th>            <td>Thu, 17 Oct 2019</td> <th>  Pseudo R-squ.:     </th>   <td>0.02595</td>  \n",
       "</tr>\n",
       "<tr>\n",
       "  <th>Time:</th>                <td>21:23:52</td>     <th>  Log-Likelihood:    </th> <td>-2.4239e+05</td>\n",
       "</tr>\n",
       "<tr>\n",
       "  <th>converged:</th>             <td>True</td>       <th>  LL-Null:           </th> <td>-2.4885e+05</td>\n",
       "</tr>\n",
       "<tr>\n",
       "  <th>Covariance Type:</th>     <td>nonrobust</td>    <th>  LLR p-value:       </th>   <td> 0.000</td>   \n",
       "</tr>\n",
       "</table>\n",
       "<table class=\"simpletable\">\n",
       "<tr>\n",
       "           <td></td>              <th>coef</th>     <th>std err</th>      <th>z</th>      <th>P>|z|</th>  <th>[0.025</th>    <th>0.975]</th>  \n",
       "</tr>\n",
       "<tr>\n",
       "  <th>Intercept</th>           <td>   -2.8309</td> <td>    0.013</td> <td> -214.109</td> <td> 0.000</td> <td>   -2.857</td> <td>   -2.805</td>\n",
       "</tr>\n",
       "<tr>\n",
       "  <th>cod_estacion[T.1]</th>   <td>    0.0447</td> <td>    0.030</td> <td>    1.492</td> <td> 0.136</td> <td>   -0.014</td> <td>    0.103</td>\n",
       "</tr>\n",
       "<tr>\n",
       "  <th>cod_estacion[T.2]</th>   <td>   -0.5742</td> <td>    0.031</td> <td>  -18.687</td> <td> 0.000</td> <td>   -0.634</td> <td>   -0.514</td>\n",
       "</tr>\n",
       "<tr>\n",
       "  <th>cod_estacion[T.3]</th>   <td>   -0.5984</td> <td>    0.021</td> <td>  -28.138</td> <td> 0.000</td> <td>   -0.640</td> <td>   -0.557</td>\n",
       "</tr>\n",
       "<tr>\n",
       "  <th>mes[T.2]</th>            <td>   -0.6353</td> <td>    0.023</td> <td>  -28.159</td> <td> 0.000</td> <td>   -0.679</td> <td>   -0.591</td>\n",
       "</tr>\n",
       "<tr>\n",
       "  <th>mes[T.3]</th>            <td>   -0.6355</td> <td>    0.024</td> <td>  -26.527</td> <td> 0.000</td> <td>   -0.682</td> <td>   -0.589</td>\n",
       "</tr>\n",
       "<tr>\n",
       "  <th>mes[T.4]</th>            <td>   -0.7375</td> <td>    0.038</td> <td>  -19.605</td> <td> 0.000</td> <td>   -0.811</td> <td>   -0.664</td>\n",
       "</tr>\n",
       "<tr>\n",
       "  <th>mes[T.5]</th>            <td>   -0.3029</td> <td>    0.036</td> <td>   -8.445</td> <td> 0.000</td> <td>   -0.373</td> <td>   -0.233</td>\n",
       "</tr>\n",
       "<tr>\n",
       "  <th>mes[T.6]</th>            <td>    0.3829</td> <td>    0.033</td> <td>   11.464</td> <td> 0.000</td> <td>    0.317</td> <td>    0.448</td>\n",
       "</tr>\n",
       "<tr>\n",
       "  <th>mes[T.7]</th>            <td>    0.5736</td> <td>    0.036</td> <td>   15.966</td> <td> 0.000</td> <td>    0.503</td> <td>    0.644</td>\n",
       "</tr>\n",
       "<tr>\n",
       "  <th>mes[T.8]</th>            <td>    0.2823</td> <td>    0.037</td> <td>    7.709</td> <td> 0.000</td> <td>    0.211</td> <td>    0.354</td>\n",
       "</tr>\n",
       "<tr>\n",
       "  <th>mes[T.9]</th>            <td>    0.2661</td> <td>    0.032</td> <td>    8.314</td> <td> 0.000</td> <td>    0.203</td> <td>    0.329</td>\n",
       "</tr>\n",
       "<tr>\n",
       "  <th>mes[T.10]</th>           <td>    0.3305</td> <td>    0.029</td> <td>   11.412</td> <td> 0.000</td> <td>    0.274</td> <td>    0.387</td>\n",
       "</tr>\n",
       "<tr>\n",
       "  <th>mes[T.11]</th>           <td>    0.3545</td> <td>    0.029</td> <td>   12.178</td> <td> 0.000</td> <td>    0.297</td> <td>    0.412</td>\n",
       "</tr>\n",
       "<tr>\n",
       "  <th>mes[T.12]</th>           <td>    0.7330</td> <td>    0.021</td> <td>   35.049</td> <td> 0.000</td> <td>    0.692</td> <td>    0.774</td>\n",
       "</tr>\n",
       "<tr>\n",
       "  <th>temp_extremo[T.1]</th>   <td>   -0.4280</td> <td>    0.024</td> <td>  -17.489</td> <td> 0.000</td> <td>   -0.476</td> <td>   -0.380</td>\n",
       "</tr>\n",
       "<tr>\n",
       "  <th>precip_extremo[T.1]</th> <td>    1.0217</td> <td>    0.014</td> <td>   74.037</td> <td> 0.000</td> <td>    0.995</td> <td>    1.049</td>\n",
       "</tr>\n",
       "</table>"
      ],
      "text/plain": [
       "<class 'statsmodels.iolib.summary.Summary'>\n",
       "\"\"\"\n",
       "                           Logit Regression Results                           \n",
       "==============================================================================\n",
       "Dep. Variable:         caudal_extremo   No. Observations:              1256478\n",
       "Model:                          Logit   Df Residuals:                  1256461\n",
       "Method:                           MLE   Df Model:                           16\n",
       "Date:                Thu, 17 Oct 2019   Pseudo R-squ.:                 0.02595\n",
       "Time:                        21:23:52   Log-Likelihood:            -2.4239e+05\n",
       "converged:                       True   LL-Null:                   -2.4885e+05\n",
       "Covariance Type:            nonrobust   LLR p-value:                     0.000\n",
       "=======================================================================================\n",
       "                          coef    std err          z      P>|z|      [0.025      0.975]\n",
       "---------------------------------------------------------------------------------------\n",
       "Intercept              -2.8309      0.013   -214.109      0.000      -2.857      -2.805\n",
       "cod_estacion[T.1]       0.0447      0.030      1.492      0.136      -0.014       0.103\n",
       "cod_estacion[T.2]      -0.5742      0.031    -18.687      0.000      -0.634      -0.514\n",
       "cod_estacion[T.3]      -0.5984      0.021    -28.138      0.000      -0.640      -0.557\n",
       "mes[T.2]               -0.6353      0.023    -28.159      0.000      -0.679      -0.591\n",
       "mes[T.3]               -0.6355      0.024    -26.527      0.000      -0.682      -0.589\n",
       "mes[T.4]               -0.7375      0.038    -19.605      0.000      -0.811      -0.664\n",
       "mes[T.5]               -0.3029      0.036     -8.445      0.000      -0.373      -0.233\n",
       "mes[T.6]                0.3829      0.033     11.464      0.000       0.317       0.448\n",
       "mes[T.7]                0.5736      0.036     15.966      0.000       0.503       0.644\n",
       "mes[T.8]                0.2823      0.037      7.709      0.000       0.211       0.354\n",
       "mes[T.9]                0.2661      0.032      8.314      0.000       0.203       0.329\n",
       "mes[T.10]               0.3305      0.029     11.412      0.000       0.274       0.387\n",
       "mes[T.11]               0.3545      0.029     12.178      0.000       0.297       0.412\n",
       "mes[T.12]               0.7330      0.021     35.049      0.000       0.692       0.774\n",
       "temp_extremo[T.1]      -0.4280      0.024    -17.489      0.000      -0.476      -0.380\n",
       "precip_extremo[T.1]     1.0217      0.014     74.037      0.000       0.995       1.049\n",
       "=======================================================================================\n",
       "\"\"\""
      ]
     },
     "execution_count": 52,
     "metadata": {},
     "output_type": "execute_result"
    }
   ],
   "source": [
    "#modelo depurado\n",
    "m1_logit_dep= smf.logit(\"caudal_extremo ~ cod_estacion + mes + temp_extremo+ precip_extremo\",df).fit()\n",
    "m1_logit_dep.summary()"
   ]
  },
  {
   "cell_type": "code",
   "execution_count": 66,
   "metadata": {},
   "outputs": [],
   "source": [
    "X_train=df[(df['año'] >= 1960) & (df['año'] <= 2001)]\n",
    "X_test= df[(df['año'] > 2001) & (df['año'] <= 2020)]\n",
    "y_train= df[(df['año'] >= 1960) & (df['año'] <= 2001)]\n",
    "y_test= df[(df['año'] > 2001) & (df['año'] <= 2020)]"
   ]
  },
  {
   "cell_type": "code",
   "execution_count": 67,
   "metadata": {},
   "outputs": [],
   "source": [
    "X_train= X_train.loc[:,[\"mes\", \"temp_extremo\", \"precip_extremo\", \"cod_estacion\"]]\n",
    "X_test= X_test.loc[:,[\"mes\", \"temp_extremo\", \"precip_extremo\", \"cod_estacion\"]]\n",
    "y_train= y_train[\"caudal_extremo\"]\n",
    "y_test= y_test[\"caudal_extremo\"]"
   ]
  },
  {
   "cell_type": "code",
   "execution_count": 68,
   "metadata": {},
   "outputs": [],
   "source": [
    "X_train_std= StandardScaler().fit_transform(X_train)\n",
    "X_test_std= StandardScaler().fit_transform(X_test)"
   ]
  },
  {
   "cell_type": "code",
   "execution_count": 69,
   "metadata": {},
   "outputs": [],
   "source": [
    "default_model= LogisticRegression().fit(X_train_std, y_train)"
   ]
  },
  {
   "cell_type": "code",
   "execution_count": 70,
   "metadata": {},
   "outputs": [
    {
     "data": {
      "text/plain": [
       "array([[ 0.30910184, -0.06949115,  0.21681779, -0.23872979]])"
      ]
     },
     "execution_count": 70,
     "metadata": {},
     "output_type": "execute_result"
    }
   ],
   "source": [
    "default_model.coef_"
   ]
  },
  {
   "cell_type": "code",
   "execution_count": 71,
   "metadata": {},
   "outputs": [
    {
     "data": {
      "text/plain": [
       "array([-2.86691733])"
      ]
     },
     "execution_count": 71,
     "metadata": {},
     "output_type": "execute_result"
    }
   ],
   "source": [
    "default_model.intercept_"
   ]
  },
  {
   "cell_type": "code",
   "execution_count": 72,
   "metadata": {},
   "outputs": [
    {
     "data": {
      "text/plain": [
       "array([0, 0, 0, 0, 0, 0, 0, 0, 0, 0, 0, 0, 0, 0, 0, 0, 0, 0, 0, 0, 0, 0,\n",
       "       0, 0, 0, 0, 0, 0, 0, 0, 0, 0, 0, 0, 0, 0, 0, 0, 0, 0, 0, 0, 0, 0,\n",
       "       0, 0, 0, 0, 0, 0, 0, 0, 0, 0, 0, 0, 0, 0, 0, 0, 0, 0, 0, 0, 0, 0,\n",
       "       0, 0, 0, 0, 0, 0, 0, 0, 0, 0, 0, 0, 0, 0, 0, 0, 0, 0, 0, 0, 0, 0,\n",
       "       0, 0, 0, 0, 0, 0, 0, 0, 0, 0, 0, 0])"
      ]
     },
     "execution_count": 72,
     "metadata": {},
     "output_type": "execute_result"
    }
   ],
   "source": [
    "yhat = default_model.predict(X_test_std)\n",
    "yhat[:100]"
   ]
  },
  {
   "cell_type": "code",
   "execution_count": 73,
   "metadata": {},
   "outputs": [
    {
     "data": {
      "text/plain": [
       "array([[0.95070179, 0.04929821],\n",
       "       [0.95070179, 0.04929821],\n",
       "       [0.9463358 , 0.0536642 ],\n",
       "       [0.9416069 , 0.0583931 ],\n",
       "       [0.95472956, 0.04527044],\n",
       "       [0.9463358 , 0.0536642 ],\n",
       "       [0.9463358 , 0.0536642 ],\n",
       "       [0.9463358 , 0.0536642 ],\n",
       "       [0.9463358 , 0.0536642 ],\n",
       "       [0.9463358 , 0.0536642 ],\n",
       "       [0.9416069 , 0.0583931 ],\n",
       "       [0.9463358 , 0.0536642 ],\n",
       "       [0.95070179, 0.04929821],\n",
       "       [0.86157852, 0.13842148],\n",
       "       [0.9416069 , 0.0583931 ],\n",
       "       [0.95472956, 0.04527044],\n",
       "       [0.9416069 , 0.0583931 ],\n",
       "       [0.9416069 , 0.0583931 ],\n",
       "       [0.87190678, 0.12809322],\n",
       "       [0.96023246, 0.03976754]])"
      ]
     },
     "execution_count": 73,
     "metadata": {},
     "output_type": "execute_result"
    }
   ],
   "source": [
    "yhat_pr = default_model.predict_proba(X_test_std)\n",
    "yhat_pr[:20]"
   ]
  },
  {
   "cell_type": "code",
   "execution_count": 74,
   "metadata": {},
   "outputs": [
    {
     "data": {
      "text/plain": [
       "array([[516137,      0],\n",
       "       [ 22406,      0]], dtype=int64)"
      ]
     },
     "execution_count": 74,
     "metadata": {},
     "output_type": "execute_result"
    }
   ],
   "source": [
    "m1_confussion= confusion_matrix(y_test, yhat)\n",
    "m1_confussion"
   ]
  },
  {
   "cell_type": "code",
   "execution_count": 75,
   "metadata": {},
   "outputs": [
    {
     "name": "stdout",
     "output_type": "stream",
     "text": [
      "              precision    recall  f1-score   support\n",
      "\n",
      "           0       0.96      1.00      0.98    516137\n",
      "           1       0.00      0.00      0.00     22406\n",
      "\n",
      "    accuracy                           0.96    538543\n",
      "   macro avg       0.48      0.50      0.49    538543\n",
      "weighted avg       0.92      0.96      0.94    538543\n",
      "\n"
     ]
    }
   ],
   "source": [
    "print(classification_report(y_test, yhat));"
   ]
  },
  {
   "cell_type": "code",
   "execution_count": 76,
   "metadata": {},
   "outputs": [],
   "source": [
    "yhat_pr= default_model.predict_proba(X_test_std)[:,1]\n",
    "false_positive, true_positive, threshold= roc_curve(y_test, yhat_pr)"
   ]
  },
  {
   "cell_type": "code",
   "execution_count": 77,
   "metadata": {},
   "outputs": [
    {
     "data": {
      "text/plain": [
       "Text(0.5, 0, 'Falsos positivos')"
      ]
     },
     "execution_count": 77,
     "metadata": {},
     "output_type": "execute_result"
    },
    {
     "data": {
      "image/png": "[encoded data removed]",
      "text/plain": [
       "<Figure size 1152x720 with 1 Axes>"
      ]
     },
     "metadata": {},
     "output_type": "display_data"
    }
   ],
   "source": [
    "plt.plot(false_positive, true_positive, lw=1)\n",
    "plt.plot([0,1], linestyle=\"--\", lw=1, color=\"tomato\")\n",
    "plt.ylabel(\"Verdaderos positivos\")\n",
    "plt.xlabel(\"Falsos positivos\")"
   ]
  },
  {
   "cell_type": "code",
   "execution_count": 78,
   "metadata": {},
   "outputs": [
    {
     "data": {
      "text/plain": [
       "0.5894279104640633"
      ]
     },
     "execution_count": 78,
     "metadata": {},
     "output_type": "execute_result"
    }
   ],
   "source": [
    "from sklearn.metrics import roc_auc_score\n",
    "roc_auc_score(y_test,yhat_pr)\n",
    "# El modelo explica en un 8,94 %"
   ]
  },
  {
   "cell_type": "markdown",
   "metadata": {},
   "source": [
    "## los datos a usar son: mes, temp_extremo, precip_extremo, cod_estacion(clima). La temp_extremo y precip_extremo considera el percentil 95 en el estación climatica histórica.\n",
    "## Es lícito usar la información de un día mientras se contraste con la información historica.\n",
    "## Usaría el modelo con la información diaria.\n",
    "\n",
    "## Sin embargo, es necesario seguir trabajando el modelo propuesto. Probar otro algoritmo e incorporar nuevas variables. El modelo como está no predice los casos de caudal_extremo."
   ]
  },
  {
   "cell_type": "markdown",
   "metadata": {},
   "source": [
    "# 8-Análisis de resultado del modelo\n",
    "a. Qué performance tiene el modelo? Qué métricas usaste para medir esa performance?\n",
    "Cuáles son las variables más importantes? Qué opinión te merecen los resultados?\n",
    "b. Si quisiéramos capturar alrededor de un 70% de los eventos de caudales extremos.\n",
    "Cuál es la precisión de tu modelo con ese porcentaje de captura? Cuéntanos si te\n",
    "parece útil.\n"
   ]
  },
  {
   "cell_type": "markdown",
   "metadata": {},
   "source": [
    "# Qué performance tiene el modelo?\n",
    "### El modelo predice superios en un 8,94 % a la predicción base de un 50% (azar)"
   ]
  },
  {
   "cell_type": "markdown",
   "metadata": {},
   "source": [
    "# Qué métricas usaste para medir esa performance?\n",
    "### curva roc, accuracy y f1. La curva roc grafica x=1-especificidad versus y= sensibilidad. "
   ]
  },
  {
   "cell_type": "markdown",
   "metadata": {},
   "source": [
    "# Cuáles son las variables más importantes?\n",
    "### mes, temp_extremo, precip_extremo, cod_estacion(clima)."
   ]
  },
  {
   "cell_type": "markdown",
   "metadata": {},
   "source": [
    "# Qué opinión te merecen los resultados?\n",
    "### no me parecen satisfactorios los resultados. Es necesario crear nuevos features y modelar con otros algoritmos."
   ]
  },
  {
   "cell_type": "markdown",
   "metadata": {},
   "source": [
    "# Si quisiéramos capturar alrededor de un 70% de los eventos de caudales extremos.\n",
    "### presicion= 0"
   ]
  },
  {
   "cell_type": "code",
   "execution_count": null,
   "metadata": {},
   "outputs": [],
   "source": []
  }
 ],
 "metadata": {
  "kernelspec": {
   "display_name": "Python 3",
   "language": "python",
   "name": "python3"
  },
  "language_info": {
   "codemirror_mode": {
    "name": "ipython",
    "version": 3
   },
   "file_extension": ".py",
   "mimetype": "text/x-python",
   "name": "python",
   "nbconvert_exporter": "python",
   "pygments_lexer": "ipython3",
   "version": "3.7.3"
  }
 },
 "nbformat": 4,
 "nbformat_minor": 2
}
